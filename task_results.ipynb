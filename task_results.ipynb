{
  "nbformat": 4,
  "nbformat_minor": 0,
  "metadata": {
    "colab": {
      "provenance": [],
      "authorship_tag": "ABX9TyOAdXcN/U+/lR/miFEWQLo1",
      "include_colab_link": true
    },
    "kernelspec": {
      "name": "python3",
      "display_name": "Python 3"
    },
    "language_info": {
      "name": "python"
    }
  },
  "cells": [
    {
      "cell_type": "markdown",
      "metadata": {
        "id": "view-in-github",
        "colab_type": "text"
      },
      "source": [
        "<a href=\"https://colab.research.google.com/github/aminghafari1/lcaging-fmri/blob/main/task_results.ipynb\" target=\"_parent\"><img src=\"https://colab.research.google.com/assets/colab-badge.svg\" alt=\"Open In Colab\"/></a>"
      ]
    },
    {
      "cell_type": "code",
      "execution_count": 2,
      "metadata": {
        "colab": {
          "base_uri": "https://localhost:8080/"
        },
        "id": "0pujKkdZ8CP3",
        "outputId": "772dcd57-26bd-41e6-d2eb-a23c9180072b"
      },
      "outputs": [
        {
          "output_type": "stream",
          "name": "stdout",
          "text": [
            "Mounted at /content/gdrive\n"
          ]
        }
      ],
      "source": [
        "from google.colab import drive\n",
        "drive.mount('/content/gdrive')\n",
        "import numpy as np\n",
        "import glob\n",
        "import os\n",
        "def substring_after(s,delim):\n",
        "  return s.partition(delim)[2]\n",
        "import scipy.io as sio\n",
        "import os"
      ]
    },
    {
      "cell_type": "code",
      "source": [
        "base_dir=glob.glob('/content/gdrive/Shareddrives/LC-Aging/'\\\n",
        "  'Older Adult - MRI Study/Data Collection/BAP/BAP data/')\n",
        "base_dir=base_dir[0]\n",
        "\n",
        "prefix = 'sub-BAP'\n",
        "sub_folders = [f for f in os.listdir(base_dir) if os.path.isdir(os.path.join(base_dir, f)) and f.startswith(prefix)]\n",
        "sub_folders = [base_dir + i for i in sub_folders]\n",
        "incomplete_directories=[]\n",
        "print(sub_folders)\n",
        "for i in range(len(sub_folders)):\n",
        "  subdirectories = os.listdir(sub_folders[i])\n",
        "  if len(subdirectories)==1:\n",
        "     incomplete_directories.append(sub_folders[i])\n",
        "complete_directories = [x for x in sub_folders if x not in incomplete_directories]\n",
        "\n",
        "  ## Now we got the adress of the folders that have more than one folder named  \"ses-1\" in them.\n",
        "  ## Now excluding the folders without insidescanner results\n",
        "  ## I actually want to make a list of the folders that have psychometric files in them and later\n",
        "  ## Will separate visual and auditory\n",
        "desired_folder=\"InsideScanner\"\n",
        "sessions=[\"ses-2\",\"ses-3\"]\n",
        "valuable_folders=[]\n",
        "for session in sessions:\n",
        "  for index in range(len(complete_directories)):\n",
        "    reading_dir=os.path.join(complete_directories[index], session)\n",
        "    reading_dir=os.path.join(reading_dir,desired_folder)\n",
        "    if os.path.isdir(reading_dir) == False:\n",
        "      continue\n",
        "    valuable_folders.append(reading_dir)\n",
        "\n",
        "## Now separating the vissual and auditory folders\n",
        "visual_folders=[]\n",
        "auditory_folders=[]\n",
        "for current_folder in valuable_folders:\n",
        "  contents=os.listdir(current_folder)\n",
        "  for file in contents:\n",
        "    if \"Voddball\" in file:\n",
        "      visual_folders.append(current_folder)\n",
        "      break\n",
        "    elif \"Aoddball\" in file:\n",
        "      auditory_folders.append(current_folder)\n",
        "      break\n",
        "dataholding_folders=auditory_folders+visual_folders"
      ],
      "metadata": {
        "id": "OFKbPgGw8NWA",
        "colab": {
          "base_uri": "https://localhost:8080/"
        },
        "outputId": "dc505fb5-cadc-434d-f755-5dbe626fb877"
      },
      "execution_count": 54,
      "outputs": [
        {
          "output_type": "stream",
          "name": "stdout",
          "text": [
            "['/content/gdrive/Shareddrives/LC-Aging/Older Adult - MRI Study/Data Collection/BAP/BAP data/sub-BAP103', '/content/gdrive/Shareddrives/LC-Aging/Older Adult - MRI Study/Data Collection/BAP/BAP data/sub-BAP001', '/content/gdrive/Shareddrives/LC-Aging/Older Adult - MRI Study/Data Collection/BAP/BAP data/sub-BAP003', '/content/gdrive/Shareddrives/LC-Aging/Older Adult - MRI Study/Data Collection/BAP/BAP data/sub-BAP100', '/content/gdrive/Shareddrives/LC-Aging/Older Adult - MRI Study/Data Collection/BAP/BAP data/sub-BAP101', '/content/gdrive/Shareddrives/LC-Aging/Older Adult - MRI Study/Data Collection/BAP/BAP data/sub-BAP102', '/content/gdrive/Shareddrives/LC-Aging/Older Adult - MRI Study/Data Collection/BAP/BAP data/sub-BAP002', '/content/gdrive/Shareddrives/LC-Aging/Older Adult - MRI Study/Data Collection/BAP/BAP data/sub-BAP104', '/content/gdrive/Shareddrives/LC-Aging/Older Adult - MRI Study/Data Collection/BAP/BAP data/sub-BAP105', '/content/gdrive/Shareddrives/LC-Aging/Older Adult - MRI Study/Data Collection/BAP/BAP data/sub-BAP106', '/content/gdrive/Shareddrives/LC-Aging/Older Adult - MRI Study/Data Collection/BAP/BAP data/sub-BAP107', '/content/gdrive/Shareddrives/LC-Aging/Older Adult - MRI Study/Data Collection/BAP/BAP data/sub-BAP108', '/content/gdrive/Shareddrives/LC-Aging/Older Adult - MRI Study/Data Collection/BAP/BAP data/sub-BAP109', '/content/gdrive/Shareddrives/LC-Aging/Older Adult - MRI Study/Data Collection/BAP/BAP data/sub-BAP111', '/content/gdrive/Shareddrives/LC-Aging/Older Adult - MRI Study/Data Collection/BAP/BAP data/sub-BAP114', '/content/gdrive/Shareddrives/LC-Aging/Older Adult - MRI Study/Data Collection/BAP/BAP data/sub-BAP115', '/content/gdrive/Shareddrives/LC-Aging/Older Adult - MRI Study/Data Collection/BAP/BAP data/sub-BAP116', '/content/gdrive/Shareddrives/LC-Aging/Older Adult - MRI Study/Data Collection/BAP/BAP data/sub-BAP110', '/content/gdrive/Shareddrives/LC-Aging/Older Adult - MRI Study/Data Collection/BAP/BAP data/sub-BAP113', '/content/gdrive/Shareddrives/LC-Aging/Older Adult - MRI Study/Data Collection/BAP/BAP data/sub-BAP112', '/content/gdrive/Shareddrives/LC-Aging/Older Adult - MRI Study/Data Collection/BAP/BAP data/sub-BAP120', '/content/gdrive/Shareddrives/LC-Aging/Older Adult - MRI Study/Data Collection/BAP/BAP data/sub-BAP117', '/content/gdrive/Shareddrives/LC-Aging/Older Adult - MRI Study/Data Collection/BAP/BAP data/sub-BAP118', '/content/gdrive/Shareddrives/LC-Aging/Older Adult - MRI Study/Data Collection/BAP/BAP data/sub-BAP119', '/content/gdrive/Shareddrives/LC-Aging/Older Adult - MRI Study/Data Collection/BAP/BAP data/sub-BAP125', '/content/gdrive/Shareddrives/LC-Aging/Older Adult - MRI Study/Data Collection/BAP/BAP data/sub-BAP121', '/content/gdrive/Shareddrives/LC-Aging/Older Adult - MRI Study/Data Collection/BAP/BAP data/sub-BAP122', '/content/gdrive/Shareddrives/LC-Aging/Older Adult - MRI Study/Data Collection/BAP/BAP data/sub-BAP123', '/content/gdrive/Shareddrives/LC-Aging/Older Adult - MRI Study/Data Collection/BAP/BAP data/sub-BAP124', '/content/gdrive/Shareddrives/LC-Aging/Older Adult - MRI Study/Data Collection/BAP/BAP data/sub-BAP133', '/content/gdrive/Shareddrives/LC-Aging/Older Adult - MRI Study/Data Collection/BAP/BAP data/sub-BAP147', '/content/gdrive/Shareddrives/LC-Aging/Older Adult - MRI Study/Data Collection/BAP/BAP data/sub-BAP149', '/content/gdrive/Shareddrives/LC-Aging/Older Adult - MRI Study/Data Collection/BAP/BAP data/sub-BAP145', '/content/gdrive/Shareddrives/LC-Aging/Older Adult - MRI Study/Data Collection/BAP/BAP data/sub-BAP146', '/content/gdrive/Shareddrives/LC-Aging/Older Adult - MRI Study/Data Collection/BAP/BAP data/sub-BAP142', '/content/gdrive/Shareddrives/LC-Aging/Older Adult - MRI Study/Data Collection/BAP/BAP data/sub-BAP141', '/content/gdrive/Shareddrives/LC-Aging/Older Adult - MRI Study/Data Collection/BAP/BAP data/sub-BAP140', '/content/gdrive/Shareddrives/LC-Aging/Older Adult - MRI Study/Data Collection/BAP/BAP data/sub-BAP139', '/content/gdrive/Shareddrives/LC-Aging/Older Adult - MRI Study/Data Collection/BAP/BAP data/sub-BAP126', '/content/gdrive/Shareddrives/LC-Aging/Older Adult - MRI Study/Data Collection/BAP/BAP data/sub-BAP132', '/content/gdrive/Shareddrives/LC-Aging/Older Adult - MRI Study/Data Collection/BAP/BAP data/sub-BAP138', '/content/gdrive/Shareddrives/LC-Aging/Older Adult - MRI Study/Data Collection/BAP/BAP data/sub-BAP134', '/content/gdrive/Shareddrives/LC-Aging/Older Adult - MRI Study/Data Collection/BAP/BAP data/sub-BAP136', '/content/gdrive/Shareddrives/LC-Aging/Older Adult - MRI Study/Data Collection/BAP/BAP data/sub-BAP135', '/content/gdrive/Shareddrives/LC-Aging/Older Adult - MRI Study/Data Collection/BAP/BAP data/sub-BAP128', '/content/gdrive/Shareddrives/LC-Aging/Older Adult - MRI Study/Data Collection/BAP/BAP data/sub-BAP129', '/content/gdrive/Shareddrives/LC-Aging/Older Adult - MRI Study/Data Collection/BAP/BAP data/sub-BAP127', '/content/gdrive/Shareddrives/LC-Aging/Older Adult - MRI Study/Data Collection/BAP/BAP data/sub-BAP151', '/content/gdrive/Shareddrives/LC-Aging/Older Adult - MRI Study/Data Collection/BAP/BAP data/sub-BAP144', '/content/gdrive/Shareddrives/LC-Aging/Older Adult - MRI Study/Data Collection/BAP/BAP data/sub-BAP168', '/content/gdrive/Shareddrives/LC-Aging/Older Adult - MRI Study/Data Collection/BAP/BAP data/sub-BAP157', '/content/gdrive/Shareddrives/LC-Aging/Older Adult - MRI Study/Data Collection/BAP/BAP data/sub-BAP163']\n"
          ]
        }
      ]
    },
    {
      "cell_type": "code",
      "source": [],
      "metadata": {
        "id": "tf0fbpVj616_"
      },
      "execution_count": 57,
      "outputs": []
    },
    {
      "cell_type": "code",
      "source": [
        "len(valuable_folders)"
      ],
      "metadata": {
        "colab": {
          "base_uri": "https://localhost:8080/"
        },
        "id": "BgCIY1pM9NPm",
        "outputId": "47565010-be7f-405f-aa49-7cad8faf158b"
      },
      "execution_count": 60,
      "outputs": [
        {
          "output_type": "execute_result",
          "data": {
            "text/plain": [
              "79"
            ]
          },
          "metadata": {},
          "execution_count": 60
        }
      ]
    },
    {
      "cell_type": "code",
      "source": [
        "contents"
      ],
      "metadata": {
        "id": "pCCExPfo8k1B",
        "colab": {
          "base_uri": "https://localhost:8080/"
        },
        "outputId": "d0ed0cfe-2a28-42c3-ca63-b745cc38c7f7"
      },
      "execution_count": 34,
      "outputs": [
        {
          "output_type": "execute_result",
          "data": {
            "text/plain": [
              "['subjectBAP144_MVCnPRAC_session3_run3_3_17_17_27_mvc.txt',\n",
              " 'subjectBAP144_MVCnPRAC_session3_run3_3_17_17_27_gripforce.csv',\n",
              " 'subjectBAP144_MVCnPRAC_session3_run3_3_17_17_27.mat',\n",
              " 'subjectBAP144_Voddball_session3_run1_3_17_17_40_gripforce.csv',\n",
              " 'subjectBAP144_Voddball_session3_run1_3_17_17_40.mat',\n",
              " 'subjectBAP144_Voddball_session3_run1_3_17_17_40_eyetrack.mat',\n",
              " 'subjectBAP144_Voddball_session3_run1_3_17_17_40_logP.txt',\n",
              " 'subjectBAP144_Voddball_session3_run2_3_17_17_51_gripforce.csv',\n",
              " 'subjectBAP144_Voddball_session3_run2_3_17_17_51_eyetrack.mat',\n",
              " 'subjectBAP144_Voddball_session3_run2_3_17_17_51_logP.txt',\n",
              " 'subjectBAP144_Voddball_session3_run2_3_17_17_51.mat',\n",
              " 'subjectBAP144_Voddball_session3_run3_3_17_18_1_gripforce.csv',\n",
              " 'subjectBAP144_Voddball_session3_run3_3_17_18_1_logP.txt',\n",
              " 'subjectBAP144_Voddball_session3_run3_3_17_18_1_eyetrack.mat',\n",
              " 'subjectBAP144_Voddball_session3_run3_3_17_18_1.mat',\n",
              " 'subjectBAP144_Voddball_session3_run4_3_17_18_16_gripforce.csv',\n",
              " 'subjectBAP144_Voddball_session3_run4_3_17_18_16_logP.txt',\n",
              " 'subjectBAP144_Voddball_session3_run4_3_17_18_16.mat',\n",
              " 'subjectBAP144_Voddball_session3_run5_3_17_18_27_gripforce.csv',\n",
              " 'subjectBAP144_Voddball_session3_run5_3_17_18_27_logP.txt',\n",
              " 'subjectBAP144_Voddball_session3_run5_3_17_18_27_eyetrack.mat',\n",
              " 'subjectBAP144_Voddball_session3_run5_3_17_18_27.mat']"
            ]
          },
          "metadata": {},
          "execution_count": 34
        }
      ]
    },
    {
      "cell_type": "code",
      "source": [],
      "metadata": {
        "id": "St5eN1jF8-tY"
      },
      "execution_count": null,
      "outputs": []
    }
  ]
}