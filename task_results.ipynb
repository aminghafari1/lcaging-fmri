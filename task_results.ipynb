{
  "nbformat": 4,
  "nbformat_minor": 0,
  "metadata": {
    "colab": {
      "provenance": [],
      "authorship_tag": "ABX9TyP1cEMqgVOW/Srg5YUw+QRd",
      "include_colab_link": true
    },
    "kernelspec": {
      "name": "python3",
      "display_name": "Python 3"
    },
    "language_info": {
      "name": "python"
    }
  },
  "cells": [
    {
      "cell_type": "markdown",
      "metadata": {
        "id": "view-in-github",
        "colab_type": "text"
      },
      "source": [
        "<a href=\"https://colab.research.google.com/github/aminghafari1/lcaging-fmri/blob/main/task_results.ipynb\" target=\"_parent\"><img src=\"https://colab.research.google.com/assets/colab-badge.svg\" alt=\"Open In Colab\"/></a>"
      ]
    },
    {
      "cell_type": "code",
      "execution_count": 1,
      "metadata": {
        "colab": {
          "base_uri": "https://localhost:8080/"
        },
        "id": "0pujKkdZ8CP3",
        "outputId": "04f8bb5d-89b5-43c4-9889-b9357d1b950f"
      },
      "outputs": [
        {
          "output_type": "stream",
          "name": "stdout",
          "text": [
            "Mounted at /content/gdrive\n"
          ]
        }
      ],
      "source": [
        "from google.colab import drive\n",
        "drive.mount('/content/gdrive')\n",
        "import numpy as np\n",
        "import glob\n",
        "import os\n",
        "def substring_after(s,delim):\n",
        "  return s.partition(delim)[2]\n",
        "def substring_before(s,delim):\n",
        "  return s.partition(delim)[0]\n",
        "import scipy.io as sio\n",
        "import os\n",
        "from scipy.stats import zscore\n",
        "from os import path\n",
        "import pandas as pd\n"
      ]
    },
    {
      "cell_type": "code",
      "source": [
        "base_dir=glob.glob('/content/gdrive/Shareddrives/LC-Aging/'\\\n",
        "  'Older Adult - MRI Study/Data Collection/BAP/BAP data/')\n",
        "base_dir=base_dir[0]\n",
        "\n",
        "prefix = 'sub-BAP'\n",
        "sub_folders = [f for f in os.listdir(base_dir) if os.path.isdir(os.path.join(base_dir, f)) and f.startswith(prefix)]\n",
        "sub_folders = [base_dir + i for i in sub_folders]\n",
        "incomplete_directories=[]\n",
        "print(sub_folders)\n",
        "for i in range(len(sub_folders)):\n",
        "  subdirectories = os.listdir(sub_folders[i])\n",
        "  if len(subdirectories)==1:\n",
        "     incomplete_directories.append(sub_folders[i])\n",
        "complete_directories = [x for x in sub_folders if x not in incomplete_directories]\n",
        "\n",
        "  ## Now we got the adress of the folders that have more than one folder named  \"ses-1\" in them.\n",
        "  ## Now excluding the folders without insidescanner results\n",
        "  ## I actually want to make a list of the folders that have psychometric files in them and later\n",
        "  ## Will separate visual and auditory\n",
        "desired_folder=\"InsideScanner\"\n",
        "sessions=[\"ses-2\",\"ses-3\"]\n",
        "valuable_folders=[]\n",
        "for session in sessions:\n",
        "  for index in range(len(complete_directories)):\n",
        "    reading_dir=os.path.join(complete_directories[index], session)\n",
        "    reading_dir=os.path.join(reading_dir,desired_folder)\n",
        "    if os.path.isdir(reading_dir) == False:\n",
        "      continue\n",
        "    valuable_folders.append(reading_dir)\n",
        "\n",
        "## Now separating the vissual and auditory folders\n",
        "visual_folders=[]\n",
        "auditory_folders=[]\n",
        "for current_folder in valuable_folders:\n",
        "  contents=os.listdir(current_folder)\n",
        "  for file in contents:\n",
        "    if \"Voddball\" in file:\n",
        "      visual_folders.append(current_folder)\n",
        "      break\n",
        "    elif \"Aoddball\" in file:\n",
        "      auditory_folders.append(current_folder)\n",
        "      break\n",
        "dataholding_folders=auditory_folders+visual_folders\n",
        "dataless_folders= [x for x in valuable_folders if x not in dataholding_folders]\n",
        "## Now that the folders containing the files we need are found, we can start working on them to get the results we want\n",
        "## auditory files\n"
      ],
      "metadata": {
        "id": "OFKbPgGw8NWA",
        "colab": {
          "base_uri": "https://localhost:8080/"
        },
        "outputId": "ca97355c-78b7-4980-a585-46a58211dfae"
      },
      "execution_count": 2,
      "outputs": [
        {
          "output_type": "stream",
          "name": "stdout",
          "text": [
            "['/content/gdrive/Shareddrives/LC-Aging/Older Adult - MRI Study/Data Collection/BAP/BAP data/sub-BAP103', '/content/gdrive/Shareddrives/LC-Aging/Older Adult - MRI Study/Data Collection/BAP/BAP data/sub-BAP001', '/content/gdrive/Shareddrives/LC-Aging/Older Adult - MRI Study/Data Collection/BAP/BAP data/sub-BAP003', '/content/gdrive/Shareddrives/LC-Aging/Older Adult - MRI Study/Data Collection/BAP/BAP data/sub-BAP100', '/content/gdrive/Shareddrives/LC-Aging/Older Adult - MRI Study/Data Collection/BAP/BAP data/sub-BAP101', '/content/gdrive/Shareddrives/LC-Aging/Older Adult - MRI Study/Data Collection/BAP/BAP data/sub-BAP102', '/content/gdrive/Shareddrives/LC-Aging/Older Adult - MRI Study/Data Collection/BAP/BAP data/sub-BAP002', '/content/gdrive/Shareddrives/LC-Aging/Older Adult - MRI Study/Data Collection/BAP/BAP data/sub-BAP104', '/content/gdrive/Shareddrives/LC-Aging/Older Adult - MRI Study/Data Collection/BAP/BAP data/sub-BAP105', '/content/gdrive/Shareddrives/LC-Aging/Older Adult - MRI Study/Data Collection/BAP/BAP data/sub-BAP106', '/content/gdrive/Shareddrives/LC-Aging/Older Adult - MRI Study/Data Collection/BAP/BAP data/sub-BAP107', '/content/gdrive/Shareddrives/LC-Aging/Older Adult - MRI Study/Data Collection/BAP/BAP data/sub-BAP108', '/content/gdrive/Shareddrives/LC-Aging/Older Adult - MRI Study/Data Collection/BAP/BAP data/sub-BAP109', '/content/gdrive/Shareddrives/LC-Aging/Older Adult - MRI Study/Data Collection/BAP/BAP data/sub-BAP111', '/content/gdrive/Shareddrives/LC-Aging/Older Adult - MRI Study/Data Collection/BAP/BAP data/sub-BAP114', '/content/gdrive/Shareddrives/LC-Aging/Older Adult - MRI Study/Data Collection/BAP/BAP data/sub-BAP115', '/content/gdrive/Shareddrives/LC-Aging/Older Adult - MRI Study/Data Collection/BAP/BAP data/sub-BAP116', '/content/gdrive/Shareddrives/LC-Aging/Older Adult - MRI Study/Data Collection/BAP/BAP data/sub-BAP110', '/content/gdrive/Shareddrives/LC-Aging/Older Adult - MRI Study/Data Collection/BAP/BAP data/sub-BAP113', '/content/gdrive/Shareddrives/LC-Aging/Older Adult - MRI Study/Data Collection/BAP/BAP data/sub-BAP112', '/content/gdrive/Shareddrives/LC-Aging/Older Adult - MRI Study/Data Collection/BAP/BAP data/sub-BAP120', '/content/gdrive/Shareddrives/LC-Aging/Older Adult - MRI Study/Data Collection/BAP/BAP data/sub-BAP117', '/content/gdrive/Shareddrives/LC-Aging/Older Adult - MRI Study/Data Collection/BAP/BAP data/sub-BAP118', '/content/gdrive/Shareddrives/LC-Aging/Older Adult - MRI Study/Data Collection/BAP/BAP data/sub-BAP119', '/content/gdrive/Shareddrives/LC-Aging/Older Adult - MRI Study/Data Collection/BAP/BAP data/sub-BAP125', '/content/gdrive/Shareddrives/LC-Aging/Older Adult - MRI Study/Data Collection/BAP/BAP data/sub-BAP121', '/content/gdrive/Shareddrives/LC-Aging/Older Adult - MRI Study/Data Collection/BAP/BAP data/sub-BAP122', '/content/gdrive/Shareddrives/LC-Aging/Older Adult - MRI Study/Data Collection/BAP/BAP data/sub-BAP123', '/content/gdrive/Shareddrives/LC-Aging/Older Adult - MRI Study/Data Collection/BAP/BAP data/sub-BAP124', '/content/gdrive/Shareddrives/LC-Aging/Older Adult - MRI Study/Data Collection/BAP/BAP data/sub-BAP133', '/content/gdrive/Shareddrives/LC-Aging/Older Adult - MRI Study/Data Collection/BAP/BAP data/sub-BAP147', '/content/gdrive/Shareddrives/LC-Aging/Older Adult - MRI Study/Data Collection/BAP/BAP data/sub-BAP149', '/content/gdrive/Shareddrives/LC-Aging/Older Adult - MRI Study/Data Collection/BAP/BAP data/sub-BAP145', '/content/gdrive/Shareddrives/LC-Aging/Older Adult - MRI Study/Data Collection/BAP/BAP data/sub-BAP146', '/content/gdrive/Shareddrives/LC-Aging/Older Adult - MRI Study/Data Collection/BAP/BAP data/sub-BAP142', '/content/gdrive/Shareddrives/LC-Aging/Older Adult - MRI Study/Data Collection/BAP/BAP data/sub-BAP141', '/content/gdrive/Shareddrives/LC-Aging/Older Adult - MRI Study/Data Collection/BAP/BAP data/sub-BAP140', '/content/gdrive/Shareddrives/LC-Aging/Older Adult - MRI Study/Data Collection/BAP/BAP data/sub-BAP139', '/content/gdrive/Shareddrives/LC-Aging/Older Adult - MRI Study/Data Collection/BAP/BAP data/sub-BAP126', '/content/gdrive/Shareddrives/LC-Aging/Older Adult - MRI Study/Data Collection/BAP/BAP data/sub-BAP132', '/content/gdrive/Shareddrives/LC-Aging/Older Adult - MRI Study/Data Collection/BAP/BAP data/sub-BAP138', '/content/gdrive/Shareddrives/LC-Aging/Older Adult - MRI Study/Data Collection/BAP/BAP data/sub-BAP134', '/content/gdrive/Shareddrives/LC-Aging/Older Adult - MRI Study/Data Collection/BAP/BAP data/sub-BAP136', '/content/gdrive/Shareddrives/LC-Aging/Older Adult - MRI Study/Data Collection/BAP/BAP data/sub-BAP135', '/content/gdrive/Shareddrives/LC-Aging/Older Adult - MRI Study/Data Collection/BAP/BAP data/sub-BAP128', '/content/gdrive/Shareddrives/LC-Aging/Older Adult - MRI Study/Data Collection/BAP/BAP data/sub-BAP129', '/content/gdrive/Shareddrives/LC-Aging/Older Adult - MRI Study/Data Collection/BAP/BAP data/sub-BAP127', '/content/gdrive/Shareddrives/LC-Aging/Older Adult - MRI Study/Data Collection/BAP/BAP data/sub-BAP151', '/content/gdrive/Shareddrives/LC-Aging/Older Adult - MRI Study/Data Collection/BAP/BAP data/sub-BAP144', '/content/gdrive/Shareddrives/LC-Aging/Older Adult - MRI Study/Data Collection/BAP/BAP data/sub-BAP168', '/content/gdrive/Shareddrives/LC-Aging/Older Adult - MRI Study/Data Collection/BAP/BAP data/sub-BAP157', '/content/gdrive/Shareddrives/LC-Aging/Older Adult - MRI Study/Data Collection/BAP/BAP data/sub-BAP163', '/content/gdrive/Shareddrives/LC-Aging/Older Adult - MRI Study/Data Collection/BAP/BAP data/sub-BAP158']\n"
          ]
        }
      ]
    },
    {
      "cell_type": "code",
      "source": [
        "for scans_folder in auditory_folders:\n",
        "  temp=substring_after(scans_folder,\"sub-\")\n",
        "  subject_index=substring_before(temp,\"/ses\")\n",
        "  print(\"Now reading subject %s\" %(subject_index))\n",
        "  scans_contents=os.listdir(scans_folder)\n",
        "  mat_files= [element for element in scans_contents if element.endswith('.mat') and \"eyetrack\" not in element and \"MVCnPRAC\" not in element]\n",
        "  for run_index in range(len(mat_files)):\n",
        "    matfile_directory=os.path.join(scans_folder, mat_files[run_index])\n",
        "    current_run=sio.loadmat(matfile_directory)\n",
        "    isoddball=current_run['isoddball']\n",
        "    iscorr=current_run['iscorr']\n",
        "    trial_offset=current_run['trial_offset']\n",
        "    reaction_time=current_run['Resp1EndTimeP_SBP']-current_run['Resp1StartTimeP']\n",
        "    nan_indices=np.where(np.isnan(iscorr)==True)\n",
        "    nan_indices=nan_indices[1]\n",
        "    reaction_time=reaction_time[~np.isnan(iscorr)]\n",
        "    log_reaction_time=np.log(reaction_time)\n",
        "    zscore_reaction_time=zscore(log_reaction_time)\n",
        "    RT_mean=np.mean(log_reaction_time)\n",
        "    RT_std=np.std(log_reaction_time)\n",
        "    up_std=RT_mean+3*RT_std\n",
        "    down_std=RT_mean-3*RT_std\n",
        "    iscorr_corrected=iscorr[~np.isnan(iscorr)]\n",
        "    trial_offset_corrected=trial_offset[~np.isnan(iscorr)]\n",
        "    isoddball_corrected=isoddball[~np.isnan(iscorr)]\n",
        "    offsets_no_repeat_sorted=np.sort(np.unique(trial_offset))\n",
        "    accuracy=np.zeros((np.size(offsets_no_repeat_sorted)))\n",
        "    reaction=np.zeros((np.size(offsets_no_repeat_sorted)))\n",
        "    corrects_vector=np.zeros((np.size(offsets_no_repeat_sorted)))\n",
        "    trials_vector=np.zeros((np.size(offsets_no_repeat_sorted)))\n",
        "    if run_index==0:\n",
        "      accuracies=np.zeros((np.size(accuracy),len(mat_files)))\n",
        "      reactions=np.zeros((np.size(reaction),len(mat_files)))\n",
        "      conducted_trials=np.zeros((np.size(trials_vector),len(mat_files)))\n",
        "      correct_trials=np.zeros((np.size(trials_vector),len(mat_files)))\n",
        "    for i in range(len(offsets_no_repeat_sorted)):\n",
        "      corrects=0\n",
        "      total_time_to_react=0\n",
        "      for j in range(len(iscorr_corrected)):\n",
        "        if trial_offset_corrected[j]==offsets_no_repeat_sorted[i]:\n",
        "          if iscorr_corrected[j]==1:\n",
        "            corrects=corrects+1\n",
        "          if log_reaction_time[j]>up_std:\n",
        "            print(\"Outlier at index %d of run %d\" %(j,run_index))\n",
        "            continue\n",
        "          elif log_reaction_time[j]<down_std:\n",
        "            print(\"Outlier at index %d of run %d\" %(j,run_index))\n",
        "            continue\n",
        "          else:\n",
        "            total_time_to_react=total_time_to_react+zscore_reaction_time[j]\n",
        "      accuracy[i]=corrects/np.count_nonzero(trial_offset_corrected==offsets_no_repeat_sorted[i])\n",
        "      reaction[i]=total_time_to_react/np.count_nonzero(trial_offset_corrected==offsets_no_repeat_sorted[i])\n",
        "      corrects_vector[i]=corrects\n",
        "      trials_vector[i]=np.count_nonzero(trial_offset_corrected==offsets_no_repeat_sorted[i])\n",
        "    accuracies[run_index,:]=accuracy\n",
        "    reactions[run_index, :]=reaction\n",
        "    conducted_trials[run_index,:]=trials_vector #3including only non-outliers\n",
        "    correct_trials[run_index,:]=corrects_vector\n",
        "    ## saving the auditory task results\n",
        "    if path.exists('/content/gdrive/Shareddrives/LC-Aging/LC_aging_fMRI/%s' %(subject_index)) == False:\n",
        "      os.mkdir('/content/gdrive/Shareddrives/LC-Aging/LC_aging_fMRI/%s' %(subject_index))\n",
        "    if path.exists('/content/gdrive/Shareddrives/LC-Aging/LC_aging_fMRI/%s/auditory' %(subject_index)) == False:\n",
        "      os.mkdir('/content/gdrive/Shareddrives/LC-Aging/LC_aging_fMRI/%s/auditory' %(subject_index))\n",
        "    save_directory=('/content/gdrive/Shareddrives/LC-Aging/LC_aging_fMRI/%s/auditory' %(subject_index))\n",
        "    pd.DataFrame(accuracies).to_csv(\"%s/updated_auditory_accuracy.csv\" %(save_directory))\n",
        "    pd.DataFrame(reactions).to_csv(\"%s/updated_auditory_reaction_zscore.csv\" %(save_directory))\n",
        "    pd.DataFrame(conducted_trials).to_csv(\"%s/performed_trials.csv\" %(save_directory))\n",
        "    pd.DataFrame(correct_trials).to_csv(\"%s/corrects_number.csv\" %(save_directory))\n"
      ],
      "metadata": {
        "colab": {
          "base_uri": "https://localhost:8080/"
        },
        "id": "tf0fbpVj616_",
        "outputId": "64630386-caf9-4863-af43-a4bfa274a632"
      },
      "execution_count": null,
      "outputs": [
        {
          "output_type": "stream",
          "name": "stdout",
          "text": [
            "Now reading subject BAP001\n",
            "Outlier at index 3 of run 4\n",
            "Now reading subject BAP102\n",
            "Now reading subject BAP104\n",
            "Now reading subject BAP106\n",
            "Outlier at index 11 of run 2\n",
            "Now reading subject BAP108\n",
            "Now reading subject BAP114\n",
            "Outlier at index 11 of run 2\n",
            "Outlier at index 22 of run 4\n",
            "Now reading subject BAP116\n",
            "Now reading subject BAP110\n",
            "Now reading subject BAP120\n",
            "Now reading subject BAP118\n",
            "Now reading subject BAP122\n",
            "Outlier at index 8 of run 1\n",
            "Now reading subject BAP124\n",
            "Now reading subject BAP146\n",
            "Now reading subject BAP140\n",
            "Now reading subject BAP132\n",
            "Now reading subject BAP138\n",
            "Now reading subject BAP134\n",
            "Now reading subject BAP136\n",
            "Now reading subject BAP128\n",
            "Now reading subject BAP144\n",
            "Now reading subject BAP103\n",
            "Now reading subject BAP003\n",
            "Outlier at index 8 of run 0\n",
            "Now reading subject BAP101\n",
            "Now reading subject BAP107\n",
            "Now reading subject BAP109\n",
            "Now reading subject BAP111\n",
            "Now reading subject BAP117\n",
            "Outlier at index 22 of run 1\n",
            "Now reading subject BAP125\n",
            "Outlier at index 11 of run 3\n",
            "Now reading subject BAP121\n",
            "Outlier at index 3 of run 2\n",
            "Outlier at index 16 of run 3\n",
            "Now reading subject BAP123\n",
            "Now reading subject BAP133\n",
            "Outlier at index 24 of run 3\n",
            "Now reading subject BAP147\n",
            "Now reading subject BAP149\n",
            "Outlier at index 1 of run 0\n",
            "Now reading subject BAP145\n",
            "Now reading subject BAP139\n",
            "Now reading subject BAP135\n",
            "Now reading subject BAP129\n",
            "Now reading subject BAP127\n",
            "Outlier at index 11 of run 3\n",
            "Now reading subject BAP151\n",
            "Outlier at index 23 of run 4\n"
          ]
        }
      ]
    },
    {
      "cell_type": "code",
      "source": [
        "for scans_folder in visual_folders:\n",
        "  temp=substring_after(scans_folder,\"sub-\")\n",
        "  subject_index=substring_before(temp,\"/ses\")\n",
        "  print(\"Now reading subject %s\" %(subject_index))\n",
        "  scans_contents=os.listdir(scans_folder)\n",
        "  mat_files= [element for element in scans_contents if element.endswith('.mat') and \"eyetrack\" not in element and \"MVCnPRAC\" not in element]\n",
        "  for run_index in range(len(mat_files)):\n",
        "    matfile_directory=os.path.join(scans_folder, mat_files[run_index])\n",
        "    current_run=sio.loadmat(matfile_directory)\n",
        "    isoddball=current_run['isoddball']\n",
        "    iscorr=current_run['iscorr']\n",
        "    trial_offset=current_run['trial_offset']\n",
        "    reaction_time=current_run['Resp1EndTimeP_SBP']-current_run['Resp1StartTimeP']\n",
        "    nan_indices=np.where(np.isnan(iscorr)==True)\n",
        "    nan_indices=nan_indices[1]\n",
        "    reaction_time=reaction_time[~np.isnan(iscorr)]\n",
        "    log_reaction_time=np.log(reaction_time)\n",
        "    zscore_reaction_time=zscore(log_reaction_time)\n",
        "    RT_mean=np.mean(log_reaction_time)\n",
        "    RT_std=np.std(log_reaction_time)\n",
        "    up_std=RT_mean+3*RT_std\n",
        "    down_std=RT_mean-3*RT_std\n",
        "    iscorr_corrected=iscorr[~np.isnan(iscorr)]\n",
        "    trial_offset_corrected=trial_offset[~np.isnan(iscorr)]\n",
        "    isoddball_corrected=isoddball[~np.isnan(iscorr)]\n",
        "    offsets_no_repeat_sorted=np.sort(np.unique(trial_offset))\n",
        "    accuracy=np.zeros((np.size(offsets_no_repeat_sorted)))\n",
        "    reaction=np.zeros((np.size(offsets_no_repeat_sorted)))\n",
        "    corrects_vector=np.zeros((np.size(offsets_no_repeat_sorted)))\n",
        "    trials_vector=np.zeros((np.size(offsets_no_repeat_sorted)))\n",
        "    if run_index==0:\n",
        "      accuracies=np.zeros((np.size(accuracy),len(mat_files)))\n",
        "      reactions=np.zeros((np.size(reaction),len(mat_files)))\n",
        "      conducted_trials=np.zeros((np.size(trials_vector),len(mat_files)))\n",
        "      correct_trials=np.zeros((np.size(trials_vector),len(mat_files)))\n",
        "    for i in range(len(offsets_no_repeat_sorted)):\n",
        "      corrects=0\n",
        "      total_time_to_react=0\n",
        "      for j in range(len(iscorr_corrected)):\n",
        "        if trial_offset_corrected[j]==offsets_no_repeat_sorted[i]:\n",
        "          if iscorr_corrected[j]==1:\n",
        "            corrects=corrects+1\n",
        "          if log_reaction_time[j]>up_std:\n",
        "            print(\"Outlier at index %d of run %d\" %(j,run_index))\n",
        "            continue\n",
        "          elif log_reaction_time[j]<down_std:\n",
        "            print(\"Outlier at index %d of run %d\" %(j,run_index))\n",
        "            continue\n",
        "          else:\n",
        "            total_time_to_react=total_time_to_react+zscore_reaction_time[j]\n",
        "      accuracy[i]=corrects/np.count_nonzero(trial_offset_corrected==offsets_no_repeat_sorted[i])\n",
        "      reaction[i]=total_time_to_react/np.count_nonzero(trial_offset_corrected==offsets_no_repeat_sorted[i])\n",
        "      corrects_vector[i]=corrects\n",
        "      trials_vector[i]=np.count_nonzero(trial_offset_corrected==offsets_no_repeat_sorted[i])\n",
        "    accuracies[run_index,:]=accuracy\n",
        "    reactions[run_index, :]=reaction\n",
        "    conducted_trials[run_index,:]=trials_vector #3including only non-outliers\n",
        "    correct_trials[run_index,:]=corrects_vector\n",
        "    ## saving the visual task results\n",
        "    if path.exists('/content/gdrive/Shareddrives/LC-Aging/LC_aging_fMRI/%s' %(subject_index)) == False:\n",
        "      os.mkdir('/content/gdrive/Shareddrives/LC-Aging/LC_aging_fMRI/%s' %(subject_index))\n",
        "    if path.exists('/content/gdrive/Shareddrives/LC-Aging/LC_aging_fMRI/%s/visual' %(subject_index)) == False:\n",
        "      os.mkdir('/content/gdrive/Shareddrives/LC-Aging/LC_aging_fMRI/%s/visual' %(subject_index))\n",
        "    save_directory=('/content/gdrive/Shareddrives/LC-Aging/LC_aging_fMRI/%s/visual' %(subject_index))\n",
        "    pd.DataFrame(accuracies).to_csv(\"%s/updated_visual_accuracy.csv\" %(save_directory))\n",
        "    pd.DataFrame(reactions).to_csv(\"%s/updated_visual_reaction_zscore.csv\" %(save_directory))\n",
        "    pd.DataFrame(conducted_trials).to_csv(\"%s/performed_trials.csv\" %(save_directory))\n",
        "    pd.DataFrame(correct_trials).to_csv(\"%s/corrects_number.csv\" %(save_directory))"
      ],
      "metadata": {
        "colab": {
          "base_uri": "https://localhost:8080/"
        },
        "id": "N_pOuzZtA2Ip",
        "outputId": "43988696-ae76-4f25-a3e0-08fd7a38d786"
      },
      "execution_count": 7,
      "outputs": [
        {
          "output_type": "stream",
          "name": "stdout",
          "text": [
            "Now reading subject BAP103\n",
            "Now reading subject BAP003\n",
            "Now reading subject BAP101\n",
            "Now reading subject BAP107\n",
            "Now reading subject BAP109\n",
            "Outlier at index 19 of run 3\n",
            "Now reading subject BAP111\n",
            "Outlier at index 22 of run 4\n",
            "Now reading subject BAP117\n",
            "Outlier at index 22 of run 2\n",
            "Now reading subject BAP125\n",
            "Now reading subject BAP121\n",
            "Now reading subject BAP123\n",
            "Now reading subject BAP133\n",
            "Now reading subject BAP147\n",
            "Now reading subject BAP145\n",
            "Now reading subject BAP139\n",
            "Outlier at index 4 of run 0\n",
            "Outlier at index 8 of run 3\n",
            "Now reading subject BAP135\n",
            "Outlier at index 20 of run 1\n",
            "Outlier at index 0 of run 2\n",
            "Outlier at index 18 of run 3\n",
            "Now reading subject BAP129\n",
            "Now reading subject BAP127\n",
            "Outlier at index 0 of run 0\n",
            "Outlier at index 7 of run 2\n",
            "Outlier at index 11 of run 3\n",
            "Outlier at index 17 of run 4\n",
            "Now reading subject BAP151\n",
            "Outlier at index 9 of run 3\n",
            "Now reading subject BAP157\n",
            "Now reading subject BAP001\n",
            "Now reading subject BAP102\n",
            "Now reading subject BAP104\n",
            "Outlier at index 20 of run 4\n",
            "Now reading subject BAP106\n",
            "Now reading subject BAP108\n",
            "Now reading subject BAP114\n",
            "Outlier at index 15 of run 2\n",
            "Now reading subject BAP116\n",
            "Outlier at index 7 of run 3\n",
            "Outlier at index 17 of run 4\n",
            "Now reading subject BAP110\n",
            "Now reading subject BAP120\n",
            "Now reading subject BAP118\n",
            "Now reading subject BAP122\n",
            "Now reading subject BAP124\n",
            "Now reading subject BAP140\n",
            "Now reading subject BAP132\n",
            "Outlier at index 14 of run 0\n",
            "Now reading subject BAP134\n",
            "Now reading subject BAP136\n",
            "Now reading subject BAP128\n",
            "Now reading subject BAP144\n"
          ]
        }
      ]
    },
    {
      "cell_type": "code",
      "source": [
        "print(subject_index)"
      ],
      "metadata": {
        "id": "0aW6WUGyZvFn",
        "colab": {
          "base_uri": "https://localhost:8080/"
        },
        "outputId": "6b7988f7-0c47-46ed-d908-1ef2082855b4"
      },
      "execution_count": 5,
      "outputs": [
        {
          "output_type": "stream",
          "name": "stdout",
          "text": [
            "BAP149\n"
          ]
        }
      ]
    },
    {
      "cell_type": "code",
      "source": [
        "save_directory"
      ],
      "metadata": {
        "colab": {
          "base_uri": "https://localhost:8080/",
          "height": 172
        },
        "id": "WF3_g4cjWg6A",
        "outputId": "60cda0c9-f8b3-4c13-9720-944ec19e91a0"
      },
      "execution_count": null,
      "outputs": [
        {
          "output_type": "error",
          "ename": "NameError",
          "evalue": "ignored",
          "traceback": [
            "\u001b[0;31m---------------------------------------------------------------------------\u001b[0m",
            "\u001b[0;31mNameError\u001b[0m                                 Traceback (most recent call last)",
            "\u001b[0;32m<ipython-input-102-6517f347fb3e>\u001b[0m in \u001b[0;36m<cell line: 1>\u001b[0;34m()\u001b[0m\n\u001b[0;32m----> 1\u001b[0;31m \u001b[0msave_directory\u001b[0m\u001b[0;34m\u001b[0m\u001b[0;34m\u001b[0m\u001b[0m\n\u001b[0m",
            "\u001b[0;31mNameError\u001b[0m: name 'save_directory' is not defined"
          ]
        }
      ]
    },
    {
      "cell_type": "code",
      "source": [],
      "metadata": {
        "id": "tuTUhUiKZd8u"
      },
      "execution_count": null,
      "outputs": []
    }
  ]
}