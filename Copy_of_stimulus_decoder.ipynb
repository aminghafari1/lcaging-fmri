{
  "cells": [
    {
      "cell_type": "markdown",
      "metadata": {
        "id": "view-in-github",
        "colab_type": "text"
      },
      "source": [
        "<a href=\"https://colab.research.google.com/github/aminghafari1/lcaging-fmri/blob/main/Copy_of_stimulus_decoder.ipynb\" target=\"_parent\"><img src=\"https://colab.research.google.com/assets/colab-badge.svg\" alt=\"Open In Colab\"/></a>"
      ]
    },
    {
      "cell_type": "code",
      "execution_count": 21,
      "metadata": {
        "id": "MbsQAuv8rSLU",
        "colab": {
          "base_uri": "https://localhost:8080/"
        },
        "outputId": "d91cbc3e-1c70-4c82-d188-668290afae58"
      },
      "outputs": [
        {
          "output_type": "stream",
          "name": "stdout",
          "text": [
            "Drive already mounted at /content/gdrive; to attempt to forcibly remount, call drive.mount(\"/content/gdrive\", force_remount=True).\n"
          ]
        }
      ],
      "source": [
        "## This code is for reading the subject data and trying to get the EV files responsible for the visual and auditory stimuli.\n",
        "## The outline is that the subject number is entered and the resulting output is EV files for all the contrasts tha are considered.\n",
        "## For now I'm gonna only focus on separating the effect of the grip from the V/A stimuli, then we will see what to do with the \n",
        "## different stimulus/handgrip levels and also the subject answers and the confidence ratings.\n",
        "\n",
        "from google.colab import drive\n",
        "drive.mount('/content/gdrive')\n",
        "import numpy as np\n",
        "import glob\n",
        "import os\n",
        "def substring_after(s,delim):\n",
        "  return s.partition(delim)[2]\n",
        "def substring_before(s,delim):\n",
        "  return s.partition(delim)[0]\n",
        "import scipy.io as sio\n",
        "def remove_duplicates_and_sort(vector):\n",
        "    unique_vector = list(set(vector))\n",
        "    sorted_vector = sorted(unique_vector)\n",
        "    return sorted_vector\n"
      ]
    },
    {
      "cell_type": "code",
      "execution_count": 22,
      "metadata": {
        "colab": {
          "base_uri": "https://localhost:8080/"
        },
        "id": "ayFIpXE_sRoL",
        "outputId": "e11a0e5b-a4fd-496f-be2a-901ad7ca7fb5"
      },
      "outputs": [
        {
          "output_type": "stream",
          "name": "stdout",
          "text": [
            "Please enter the subject number:108\n",
            "Working on the visual and auditory data of sub 108 now.\n",
            "The folder we are looking for here is: sub-BAP108\n",
            "The folder sub-BAP108 was found in the list.\n",
            "/content/gdrive/Shareddrives/LC-Aging/Older Adult - MRI Study/Data Collection/BAP/BAP data/sub-BAP108\n",
            "BAP108\n"
          ]
        }
      ],
      "source": [
        "sub_num=input(\"Please enter the subject number:\")\n",
        "print(\"Working on the visual and auditory data of sub %s now.\" %(sub_num))\n",
        "\n",
        "base_dir=glob.glob('/content/gdrive/Shareddrives/LC-Aging/'\\\n",
        "  'Older Adult - MRI Study/Data Collection/BAP/BAP data/')\n",
        "base_dir=base_dir[0]\n",
        "sub_folder_name=\"sub-BAP\"+sub_num\n",
        "z=os.listdir(base_dir)\n",
        "print(\"The folder we are looking for here is: %s\" %(sub_folder_name))\n",
        "while sub_num != \"quit\":\n",
        "    if sub_folder_name in z:\n",
        "        print(\"The folder %s was found in the list.\" %(sub_folder_name) )\n",
        "        break\n",
        "    else:\n",
        "        print(\"The folder %s was not found in the list.\" %(sub_folder_name) )\n",
        "        print(\"Please enter another subject code or type 'quit' to exit.\")\n",
        "    sub_num = input(\"Please enter a subject number or type 'quit' to exit: \")\n",
        "subject_folder=base_dir+sub_folder_name\n",
        "print(subject_folder)\n",
        "sessions=[2,3]\n",
        "for session_number in sessions:\n",
        "  temp=\"/ses-%s/InsideScanner\" %(session_number)\n",
        "  scans_folder=subject_folder+temp\n",
        "  scans_contents=os.listdir(scans_folder)\n",
        "  mat_files= [element for element in scans_contents if element.endswith('.mat') and \"eyetrack\" not in element and \"MVCnPRAC\" not in element]\n",
        "  temp_perf=mat_files[0]\n",
        "  if \"Voddball\" in temp_perf:\n",
        "    visual_files=mat_files\n",
        "    visual_scans_folder=scans_folder+\"/\"\n",
        "  else:\n",
        "    audio_files=mat_files\n",
        "    audio_scans_folder=scans_folder+\"/\"\n",
        "  \n",
        "## Finding the save directory\n",
        "res_directory=\"BAP\"+str(sub_num)\n",
        "print(res_directory)\n",
        "save_dir_vis='/content/gdrive/Shareddrives/LC-Aging/LC_aging_fMRI/%s/visual/ev_files' %(res_directory)\n",
        "save_dir_aud='/content/gdrive/Shareddrives/LC-Aging/LC_aging_fMRI/%s/auditory/ev_files' %(res_directory)\n",
        "if not os.path.exists(save_dir_vis):\n",
        "  os.makedirs(save_dir_vis)\n",
        "if not os.path.exists(save_dir_aud):\n",
        "  os.makedirs(save_dir_aud)"
      ]
    },
    {
      "cell_type": "code",
      "execution_count": 33,
      "metadata": {
        "colab": {
          "base_uri": "https://localhost:8080/"
        },
        "id": "i6rpvpew3xBq",
        "outputId": "696f5aeb-00fb-401d-dd26-6db8d7ef016b"
      },
      "outputs": [
        {
          "output_type": "stream",
          "name": "stdout",
          "text": [
            "Now reading run number 1 of the visual test.\n",
            "Now reading run number 2 of the visual test.\n",
            "Now reading run number 3 of the visual test.\n",
            "Now reading run number 4 of the visual test.\n",
            "Now reading run number 5 of the visual test.\n"
          ]
        }
      ],
      "source": [
        "\n",
        "## Because in some of the subjects the number of auditory tasks might differ from the visual ones\n",
        "## we need to exploit 2 for loops, one for each here.\n",
        "## This section is only for the visual test\n",
        "number_of_trials_per_run=30\n",
        "visual_ones=np.ones(number_of_trials_per_run)\n",
        "grip_ones=np.ones(number_of_trials_per_run)\n",
        "for current_file in visual_files:\n",
        "  task_file=current_file\n",
        "  file_directory=visual_scans_folder+task_file\n",
        "  temp=substring_after(file_directory,\"run\")\n",
        "  run_index=temp[0]\n",
        "  print(\"Now reading run number %s of the visual test.\" %(run_index))\n",
        "  current_run=sio.loadmat(file_directory)\n",
        "  experiment_start_time=current_run['ExpStartTimeP']\n",
        "  trial_start=current_run['stimulusStartTimeP']-experiment_start_time ##This is also grip start time\n",
        "  grip_end_time=current_run['relaxStartTimeP']-experiment_start_time\n",
        "  first_stimulus_start=current_run['SoundStartTimeP']-experiment_start_time\n",
        "  first_stimulus_end=current_run['g1_OffsetTimeP']-experiment_start_time\n",
        "  second_stimulus_end=current_run['g2_OffsetTimeP']-experiment_start_time\n",
        "  second_stimulus_start=current_run['g2_OnsetTimeP']-experiment_start_time\n",
        "  grip_force=current_run['isStrengthHi']\n",
        "  button_response=current_run['ButtonResponse']\n",
        "  stimlev=current_run['StimLev']\n",
        "  mixtr=current_run['mixtr']\n",
        "  slice_order=mixtr[:,0]\n",
        "  slice_index=slice_order-1\n",
        "  visual_presented_order=visual_ev[slice_index]\n",
        "  stimlev=stimlev.squeeze()\n",
        "  button_response=button_response.squeeze() ##same for 3, different for 1\n",
        "  grip_force=grip_force.squeeze()\n",
        "  grip_length=grip_end_time-trial_start\n",
        "  first_stimulus_length=first_stimulus_end-first_stimulus_start\n",
        "  second_stimulus_length=second_stimulus_end-second_stimulus_start\n",
        "  visual_first_vector=np.zeros(np.shape(first_stimulus_start)[1])\n",
        "  visual_second_vector=np.zeros(np.shape(first_stimulus_start)[1])\n",
        "  visual_third_vector=np.zeros(np.shape(first_stimulus_start)[1])\n",
        "  grip_first_vector=np.zeros(np.shape(trial_start)[1])\n",
        "  grip_second_vector=np.zeros(np.shape(trial_start)[1])\n",
        "  j=0\n",
        "  num_cols=3\n",
        "  same_matrix=np.empty((0, num_cols))\n",
        "  diff_matrix=np.empty((0, num_cols))\n",
        "  lowgrip_matrix=np.empty((0,num_cols))\n",
        "  highgrip_matrix=np.empty((0,num_cols))\n",
        "\n",
        "  for i in range(np.shape(first_stimulus_start)[1]):\n",
        "    grip_first_vector[i]=trial_start[0,i]\n",
        "    grip_second_vector[i]=grip_length[0,i]\n",
        "    visual_first_vector[i]=first_stimulus_start[0,i]\n",
        "    visual_second_vector[i]=second_stimulus_end[0,i]-first_stimulus_start[0,i]\n",
        "    visual_third_vector[i]=stimlev[i]\n",
        "    if grip_force[i]==0:\n",
        "      row=[grip_first_vector[i],grip_second_vector[i],1]\n",
        "      lowgrip_matrix=np.vstack([lowgrip_matrix,row])\n",
        "    if grip_force[i]==1:\n",
        "      row=[grip_first_vector[i],grip_second_vector[i],1]\n",
        "      highgrip_matrix=np.vstack([highgrip_matrix,row])\n",
        "    if button_response[i]==3:\n",
        "      row=[visual_first_vector[i],visual_second_vector[i],1]\n",
        "      same_matrix=np.vstack([same_matrix,row])\n",
        "    if button_response[i]==1:\n",
        "      row=[visual_first_vector[i],visual_second_vector[i],1]\n",
        "      diff_matrix=np.vstack([diff_matrix,row])\n",
        "  visual_ev=np.column_stack((visual_first_vector,visual_second_vector,visual_third_vector)) \n",
        "  grip_ev=np.column_stack((grip_first_vector,grip_second_vector,grip_ones)) \n",
        "  run_save_dir=save_dir_vis+\"/run\"+run_index\n",
        "  fmt = ['%.4f', '%.4f', '%.d']\n",
        "  dmt = ['%.4f', '%.4f', '%.2f']\n",
        "  if not os.path.exists(run_save_dir):\n",
        "    os.makedirs(run_save_dir)\n",
        "  ## oddball contrasts\n",
        "  stim_sorted=remove_duplicates_and_sort(stimlev)\n",
        "  oddballs=np.zeros((5,6,3))\n",
        "  for j in range(len(stim_sorted)):\n",
        "    filename=f\"oddball_lev_{j+1}.txt\"\n",
        "    k=0\n",
        "    for row in visual_presented_order:\n",
        "      if row[2]==stim_sorted[j]:\n",
        "        oddballs[j][k][:]=row\n",
        "        k=k+1\n",
        "    oddball_ev=os.path.join(run_save_dir,filename)\n",
        "    np.savetxt(oddball_ev,oddballs[j], delimiter=\" \", fmt=dmt)\n",
        "\n",
        "  oddball_order=np.zeros((len(slice_order)))\n",
        "\n",
        "\n",
        "  ##oddball contrasts\n",
        "  \n",
        "  visual_filename=f\"visual_run_{run_index}.txt\"\n",
        "  grip_filename=f\"visual_grip_run_{run_index}.txt\"\n",
        "  same_filename=f\"stimuli_same_run_{run_index}.txt\"\n",
        "  diff_filename=f\"stimuli_diff_run_{run_index}.txt\"\n",
        "  lowgrip_filename=f\"low_grip_run_{run_index}.txt\"\n",
        "  highgrip_filename=f\"high_grip_run_{run_index}.txt\"\n",
        "  ev1_address=os.path.join(run_save_dir,visual_filename)\n",
        "  ev2_address=os.path.join(run_save_dir,grip_filename)\n",
        "  ev3_address=os.path.join(run_save_dir,same_filename)\n",
        "  ev4_address=os.path.join(run_save_dir,diff_filename)\n",
        "  ev5_address=os.path.join(run_save_dir,lowgrip_filename)\n",
        "  ev6_address=os.path.join(run_save_dir,highgrip_filename)\n",
        "  np.savetxt(ev1_address,visual_ev, delimiter=\" \",fmt=dmt)\n",
        "  np.savetxt(ev2_address,grip_ev, delimiter=\" \",fmt=fmt)\n",
        "  np.savetxt(ev3_address,same_matrix,delimiter=\" \",fmt=fmt)\n",
        "  np.savetxt(ev4_address,diff_matrix,delimiter=\" \",fmt=fmt)\n",
        "  np.savetxt(ev5_address,lowgrip_matrix,delimiter=\" \",fmt=fmt)\n",
        "  np.savetxt(ev6_address,highgrip_matrix,delimiter=\" \",fmt=fmt)\n",
        "\n"
      ]
    },
    {
      "cell_type": "code",
      "source": [
        "slice_order\n",
        "juv=slice_order-1\n",
        "\n",
        "visual_juv=visual_ev[juv]"
      ],
      "metadata": {
        "id": "FvqSR468vaby"
      },
      "execution_count": 42,
      "outputs": []
    },
    {
      "cell_type": "code",
      "source": [
        "visual_juv\n"
      ],
      "metadata": {
        "colab": {
          "base_uri": "https://localhost:8080/"
        },
        "id": "HHyPy0b-WcPg",
        "outputId": "c976cf68-f649-47e9-bb9f-578d6ae5b4e9"
      },
      "execution_count": 43,
      "outputs": [
        {
          "output_type": "execute_result",
          "data": {
            "text/plain": [
              "array([[4.22617661e+01, 7.00062800e-01, 0.00000000e+00],\n",
              "       [5.45121774e+01, 7.00424100e-01, 0.00000000e+00],\n",
              "       [2.45261079e+02, 7.00069300e-01, 6.00000000e-02],\n",
              "       [3.04763653e+02, 7.00238300e-01, 6.00000000e-02],\n",
              "       [2.01509126e+02, 7.00026000e-01, 1.20000000e-01],\n",
              "       [2.17260073e+02, 6.99567800e-01, 2.40000000e-01],\n",
              "       [3.73006884e+02, 7.00312000e-01, 1.20000000e-01],\n",
              "       [3.46755656e+02, 6.99921800e-01, 4.80000000e-01],\n",
              "       [6.85131728e+01, 6.99837500e-01, 0.00000000e+00],\n",
              "       [1.35006213e+02, 6.99647300e-01, 6.00000000e-02],\n",
              "       [9.30141002e+01, 6.99748300e-01, 1.20000000e-01],\n",
              "       [1.47256769e+02, 6.99957900e-01, 1.20000000e-01],\n",
              "       [3.59006284e+02, 6.99850500e-01, 6.00000000e-02],\n",
              "       [3.79997150e+00, 7.00088700e-01, 0.00000000e+00],\n",
              "       [1.89258203e+02, 7.00439400e-01, 6.00000000e-02],\n",
              "       [3.88757539e+02, 7.00073700e-01, 2.40000000e-01],\n",
              "       [2.31260345e+02, 7.00221200e-01, 4.80000000e-01],\n",
              "       [3.32765316e+02, 6.99620100e-01, 2.40000000e-01],\n",
              "       [4.01008452e+02, 6.99613200e-01, 4.80000000e-01],\n",
              "       [3.00114328e+01, 6.99897100e-01, 0.00000000e+00],\n",
              "       [2.59261456e+02, 7.00118900e-01, 1.20000000e-01],\n",
              "       [1.77709797e+01, 6.99482500e-01, 0.00000000e+00],\n",
              "       [1.75258125e+02, 6.99820400e-01, 4.80000000e-01],\n",
              "       [2.73262553e+02, 6.99672200e-01, 2.40000000e-01],\n",
              "       [1.22765328e+02, 6.99955100e-01, 4.80000000e-01],\n",
              "       [1.61257138e+02, 6.99949200e-01, 2.40000000e-01],\n",
              "       [2.89002995e+02, 7.00218500e-01, 4.80000000e-01],\n",
              "       [8.07637037e+01, 6.99698500e-01, 6.00000000e-02],\n",
              "       [3.20504915e+02, 6.99780900e-01, 1.20000000e-01],\n",
              "       [1.07014972e+02, 6.99604600e-01, 2.40000000e-01]])"
            ]
          },
          "metadata": {},
          "execution_count": 43
        }
      ]
    },
    {
      "cell_type": "code",
      "execution_count": null,
      "metadata": {
        "colab": {
          "base_uri": "https://localhost:8080/"
        },
        "id": "qCz8sealzbe8",
        "outputId": "5ca25bea-f946-4763-d638-cbc5ff565695"
      },
      "outputs": [
        {
          "output_type": "stream",
          "name": "stdout",
          "text": [
            "The current ev address is: /content/gdrive/Shareddrives/LC-Aging/LC_aging_fMRI/BAP103/visual/ev_files/run1/oddball_level_run1.txt\n",
            "The current ev address is: /content/gdrive/Shareddrives/LC-Aging/LC_aging_fMRI/BAP103/visual/ev_files/run2/oddball_level_run2.txt\n",
            "The current ev address is: /content/gdrive/Shareddrives/LC-Aging/LC_aging_fMRI/BAP103/visual/ev_files/run3/oddball_level_run3.txt\n",
            "The current ev address is: /content/gdrive/Shareddrives/LC-Aging/LC_aging_fMRI/BAP103/visual/ev_files/run4/oddball_level_run4.txt\n",
            "The current ev address is: /content/gdrive/Shareddrives/LC-Aging/LC_aging_fMRI/BAP103/visual/ev_files/run5/oddball_level_run5.txt\n"
          ]
        }
      ],
      "source": [
        "## oddball discriminator, run this cell if you want to get different ev files based on the oddball level\n",
        "oddballs=np.zeros((5,6,3))\n",
        "stim_sorted=remove_duplicates_and_sort(stimlev)\n",
        "for j in range(len(stim_sorted)):\n",
        "  k=0\n",
        "  for row in visual_ev:\n",
        "    if row[2]==stim_sorted[j]:\n",
        "      oddballs[j][k][:]=row\n",
        "      k=k+1\n",
        "      ## You need 2 for looops.\n",
        "for i in range(np.shape(oddballs)[0]):\n",
        "  run_index=i+1\n",
        "  filename=f\"oddball_level_run{run_index}.txt\"\n",
        "  run_save_dir=save_dir_vis+\"/run\"+str(run_index)\n",
        "  ev_address=os.path.join(run_save_dir,filename)\n",
        "  print(\"The current ev address is: %s\" %(ev_address))\n",
        "  np.savetxt(ev_address,oddballs[i],delimiter= \"\" , fmt=fmt)\n"
      ]
    },
    {
      "cell_type": "code",
      "source": [
        "ev_address"
      ],
      "metadata": {
        "colab": {
          "base_uri": "https://localhost:8080/",
          "height": 36
        },
        "id": "ASpDTuEOGUga",
        "outputId": "216d37db-2598-4b68-b6de-d32d53c6a2a9"
      },
      "execution_count": null,
      "outputs": [
        {
          "output_type": "execute_result",
          "data": {
            "text/plain": [
              "'/content/gdrive/Shareddrives/LC-Aging/LC_aging_fMRI/BAP103/visual/ev_files/run5/oddball_level_run5.txt'"
            ],
            "application/vnd.google.colaboratory.intrinsic+json": {
              "type": "string"
            }
          },
          "metadata": {},
          "execution_count": 45
        }
      ]
    },
    {
      "cell_type": "code",
      "execution_count": null,
      "metadata": {
        "colab": {
          "base_uri": "https://localhost:8080/"
        },
        "id": "hpGtVHtirIOz",
        "outputId": "fa572367-09a2-45bb-d2d1-42b027f89bc7"
      },
      "outputs": [
        {
          "output_type": "execute_result",
          "data": {
            "text/plain": [
              "array([[[7.19892549e+01, 6.96532400e-01, 0.00000000e+00],\n",
              "        [7.19892549e+01, 6.96532400e-01, 0.00000000e+00],\n",
              "        [7.19892549e+01, 6.96532400e-01, 0.00000000e+00],\n",
              "        [7.19892549e+01, 6.96532400e-01, 0.00000000e+00],\n",
              "        [7.19892549e+01, 6.96532400e-01, 0.00000000e+00],\n",
              "        [7.19892549e+01, 6.96532400e-01, 0.00000000e+00]],\n",
              "\n",
              "       [[3.60741774e+02, 6.97315200e-01, 6.00000000e-02],\n",
              "        [3.60741774e+02, 6.97315200e-01, 6.00000000e-02],\n",
              "        [3.60741774e+02, 6.97315200e-01, 6.00000000e-02],\n",
              "        [3.60741774e+02, 6.97315200e-01, 6.00000000e-02],\n",
              "        [3.60741774e+02, 6.97315200e-01, 6.00000000e-02],\n",
              "        [3.60741774e+02, 6.97315200e-01, 6.00000000e-02]],\n",
              "\n",
              "       [[3.72992083e+02, 6.97310300e-01, 1.20000000e-01],\n",
              "        [3.72992083e+02, 6.97310300e-01, 1.20000000e-01],\n",
              "        [3.72992083e+02, 6.97310300e-01, 1.20000000e-01],\n",
              "        [3.72992083e+02, 6.97310300e-01, 1.20000000e-01],\n",
              "        [3.72992083e+02, 6.97310300e-01, 1.20000000e-01],\n",
              "        [3.72992083e+02, 6.97310300e-01, 1.20000000e-01]],\n",
              "\n",
              "       [[3.88742872e+02, 6.96914000e-01, 2.40000000e-01],\n",
              "        [3.88742872e+02, 6.96914000e-01, 2.40000000e-01],\n",
              "        [3.88742872e+02, 6.96914000e-01, 2.40000000e-01],\n",
              "        [3.88742872e+02, 6.96914000e-01, 2.40000000e-01],\n",
              "        [3.88742872e+02, 6.96914000e-01, 2.40000000e-01],\n",
              "        [3.88742872e+02, 6.96914000e-01, 2.40000000e-01]],\n",
              "\n",
              "       [[4.00992997e+02, 6.96509900e-01, 4.80000000e-01],\n",
              "        [4.00992997e+02, 6.96509900e-01, 4.80000000e-01],\n",
              "        [4.00992997e+02, 6.96509900e-01, 4.80000000e-01],\n",
              "        [4.00992997e+02, 6.96509900e-01, 4.80000000e-01],\n",
              "        [4.00992997e+02, 6.96509900e-01, 4.80000000e-01],\n",
              "        [4.00992997e+02, 6.96509900e-01, 4.80000000e-01]]])"
            ]
          },
          "metadata": {},
          "execution_count": 24
        }
      ],
      "source": [
        "## Use this in case that you want to delete contents of one directory\n",
        "now=substring_before(save_dir_vis,\"/ev\")\n",
        "print(save_dir_vis)\n",
        "now\n",
        "txt_files = glob.glob(os.path.join(save_dir_vis, '*.txt'))\n",
        "for file in txt_files:\n",
        "    os.remove(file)\n",
        "    print(f\"Deleted file: {file}\")\n"
      ]
    },
    {
      "cell_type": "code",
      "execution_count": null,
      "metadata": {
        "colab": {
          "base_uri": "https://localhost:8080/"
        },
        "id": "MHlalmJzYxq1",
        "outputId": "bf9190d7-be80-4008-efa5-81140d2230f5"
      },
      "outputs": [
        {
          "output_type": "stream",
          "name": "stdout",
          "text": [
            "Now reading run number 1 of the auditory test.\n",
            "Now reading run number 2 of the auditory test.\n",
            "Now reading run number 3 of the auditory test.\n",
            "Now reading run number 4 of the auditory test.\n",
            "Now reading run number 5 of the auditory test.\n"
          ]
        }
      ],
      "source": [
        "\n",
        "\n",
        "\n",
        "## Because in some of the subjects the number of auditory tasks might differ from the visual ones\n",
        "## we need to exploit 2 for loops, one for each here.\n",
        "## This section is only for the auditory test\n",
        "number_of_trials_per_run=30\n",
        "audio_ones=np.ones(2*number_of_trials_per_run)\n",
        "grip_ones=np.ones(number_of_trials_per_run)\n",
        "for current_file in audio_files:\n",
        "  task_file=current_file\n",
        "  file_directory=audio_scans_folder+task_file\n",
        "  temp=substring_after(file_directory,\"run\")\n",
        "  run_index=temp[0]\n",
        "  print(\"Now reading run number %s of the auditory test.\" %(run_index))\n",
        "  current_run=sio.loadmat(file_directory)\n",
        "  experiment_start_time=current_run['ExpStartTimeP']\n",
        "  trial_start=current_run['stimulusStartTimeP']-experiment_start_time ##This is also grip start time\n",
        "  grip_end_time=current_run['relaxStartTimeP']-experiment_start_time\n",
        "  first_stimulus_start=current_run['SoundStartTimeP']-experiment_start_time\n",
        "  first_stimulus_end=first_stimulus_start+0.1 ## Seems like we don't have the exact timings\n",
        "  second_stimulus_start=first_stimulus_end+0.5\n",
        "  second_stimulus_end=second_stimulus_start+0.1\n",
        "\n",
        "  grip_length=grip_end_time-trial_start\n",
        "  first_stimulus_length=first_stimulus_end-first_stimulus_start\n",
        "  second_stimulus_length=second_stimulus_end-second_stimulus_start\n",
        "  audio_first_vector=np.zeros(2*np.shape(first_stimulus_start)[1])\n",
        "  audio_second_vector=np.zeros(2*np.shape(first_stimulus_start)[1])\n",
        "  grip_first_vector=np.zeros(np.shape(trial_start)[1])\n",
        "  grip_second_vector=np.zeros(np.shape(trial_start)[1])\n",
        "  j=0\n",
        "  for i in range(np.shape(first_stimulus_start)[1]):\n",
        "    grip_first_vector[i]=trial_start[0,i]\n",
        "    grip_second_vector[i]=grip_length[0,i]\n",
        "    if j%2 ==0:\n",
        "      audio_first_vector[j]=first_stimulus_start[0,i]\n",
        "      audio_second_vector[j]=first_stimulus_length[0,i]\n",
        "      j=j+1\n",
        "    if j%2 !=0:\n",
        "      audio_first_vector[j]=second_stimulus_start[0,i]\n",
        "      audio_second_vector[j]=second_stimulus_length[0,i]\n",
        "      j=j+1\n",
        "  audio_ev=np.column_stack((audio_first_vector,audio_second_vector,audio_ones)) \n",
        "  grip_ev=np.column_stack((grip_first_vector,grip_second_vector,grip_ones)) \n",
        "  audio_filename=f\"audio_run_{run_index}.txt\"\n",
        "  ev1_adress=save_dir_aud+audio_filename\n",
        "  grip_filename=f\"audio_grip_run_{run_index}.txt\"\n",
        "  ev2_adress=save_dir_aud+grip_filename\n",
        "  fmt = ['%.4f', '%.4f', '%d']\n",
        "  np.savetxt(ev1_adress,audio_ev, delimiter=\" \",fmt=fmt)\n",
        "  np.savetxt(ev2_adress,grip_ev, delimiter=\" \",fmt=fmt)\n",
        "\n"
      ]
    },
    {
      "cell_type": "code",
      "execution_count": null,
      "metadata": {
        "colab": {
          "base_uri": "https://localhost:8080/"
        },
        "id": "dvMeOTdkicNN",
        "outputId": "35903cb9-228e-4c0b-d061-b62049647a36"
      },
      "outputs": [
        {
          "data": {
            "text/plain": [
              "array([[  3.8099293,  16.0206326,  29.8313092,  42.2615242,  56.2621671,\n",
              "         72.0135609,  87.7638165, 103.5049449, 119.2555947, 133.2561306,\n",
              "        145.5063155, 159.5073296, 173.5076996, 185.758313 , 198.0091031,\n",
              "        210.2594204, 224.2603517, 240.0115014, 252.2615588, 264.5121072,\n",
              "        280.2530545, 294.2535608, 308.2540974, 322.2545207, 336.2554879,\n",
              "        348.5062499, 362.5065597, 374.7572263, 387.0081127, 401.0084801]])"
            ]
          },
          "execution_count": 15,
          "metadata": {},
          "output_type": "execute_result"
        }
      ],
      "source": [
        "first_stimulus_start"
      ]
    },
    {
      "cell_type": "code",
      "execution_count": null,
      "metadata": {
        "colab": {
          "base_uri": "https://localhost:8080/"
        },
        "id": "fxRMQw8dS3R8",
        "outputId": "55bfc3c6-1aa4-42ba-ad00-ed840864f4f5"
      },
      "outputs": [
        {
          "data": {
            "text/plain": [
              "['subjectBAP103_Voddball_session2_run1_7_6_13_15.mat',\n",
              " 'subjectBAP103_Voddball_session2_run2_7_6_13_25.mat',\n",
              " 'subjectBAP103_Voddball_session2_run3_7_6_13_34.mat',\n",
              " 'subjectBAP103_Voddball_session2_run4_7_6_13_42.mat',\n",
              " 'subjectBAP103_Voddball_session2_run5_7_6_13_51.mat']"
            ]
          },
          "execution_count": 18,
          "metadata": {},
          "output_type": "execute_result"
        }
      ],
      "source": [
        "visual_files"
      ]
    },
    {
      "cell_type": "code",
      "execution_count": null,
      "metadata": {
        "colab": {
          "base_uri": "https://localhost:8080/"
        },
        "id": "QObxRO7vuL2P",
        "outputId": "70ee65cc-577c-49e2-8f21-c069fc97db61"
      },
      "outputs": [
        {
          "data": {
            "text/plain": [
              "list"
            ]
          },
          "execution_count": 19,
          "metadata": {},
          "output_type": "execute_result"
        }
      ],
      "source": [
        "import os\n",
        "z=os.listdir(base_dir)\n",
        "type(z)"
      ]
    },
    {
      "cell_type": "code",
      "execution_count": null,
      "metadata": {
        "id": "54p6aKfiuQLF"
      },
      "outputs": [],
      "source": [
        "\n"
      ]
    }
  ],
  "metadata": {
    "colab": {
      "provenance": [],
      "include_colab_link": true
    },
    "kernelspec": {
      "display_name": "Python 3",
      "name": "python3"
    },
    "language_info": {
      "name": "python"
    }
  },
  "nbformat": 4,
  "nbformat_minor": 0
}