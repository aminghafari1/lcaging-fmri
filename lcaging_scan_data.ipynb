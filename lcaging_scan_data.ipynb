{
  "nbformat": 4,
  "nbformat_minor": 0,
  "metadata": {
    "colab": {
      "provenance": [],
      "authorship_tag": "ABX9TyNRxQ/SYKOea1irjLwED31n",
      "include_colab_link": true
    },
    "kernelspec": {
      "name": "python3",
      "display_name": "Python 3"
    },
    "language_info": {
      "name": "python"
    }
  },
  "cells": [
    {
      "cell_type": "markdown",
      "metadata": {
        "id": "view-in-github",
        "colab_type": "text"
      },
      "source": [
        "<a href=\"https://colab.research.google.com/github/aminghafari1/lcaging-fmri/blob/main/lcaging_scan_data.ipynb\" target=\"_parent\"><img src=\"https://colab.research.google.com/assets/colab-badge.svg\" alt=\"Open In Colab\"/></a>"
      ]
    },
    {
      "cell_type": "code",
      "execution_count": 1,
      "metadata": {
        "colab": {
          "base_uri": "https://localhost:8080/"
        },
        "id": "7Ev7fPhGQHET",
        "outputId": "bc32382c-f370-4298-a916-b3f17957548e"
      },
      "outputs": [
        {
          "output_type": "stream",
          "name": "stdout",
          "text": [
            "Mounted at /content/gdrive\n"
          ]
        }
      ],
      "source": [
        "from google.colab import drive\n",
        "drive.mount('/content/gdrive')\n",
        "import numpy as np\n"
      ]
    },
    {
      "cell_type": "code",
      "source": [
        "import scipy.io as sio\n",
        "runs=[\"run1\",\"run2\",\"run3\",\"run4\",\"run5\"]\n",
        "print(runs[0])"
      ],
      "metadata": {
        "colab": {
          "base_uri": "https://localhost:8080/"
        },
        "id": "VmFo9n5BIDqo",
        "outputId": "f3e4ec02-2083-43bc-af5a-7772153c0efc"
      },
      "execution_count": 2,
      "outputs": [
        {
          "output_type": "stream",
          "name": "stdout",
          "text": [
            "run1\n"
          ]
        }
      ]
    },
    {
      "cell_type": "code",
      "source": [
        "import glob\n",
        "def substring_after(s,delim):\n",
        "  return s.partition(delim)[2]\n",
        "def substring_before(s,delim):\n",
        "  return s.partition(delim)[0]"
      ],
      "metadata": {
        "id": "rUPKpcBTpalq"
      },
      "execution_count": 56,
      "outputs": []
    },
    {
      "cell_type": "code",
      "source": [
        "\n",
        "for run_index in range(len(runs)):\n",
        "  file_directory=glob.glob('/content/gdrive/Shareddrives/LC-Aging/'\\\n",
        "  'Older Adult - MRI Study/Data Collection/BAP/BAP data/'\\\n",
        "  'sub-BAP103/ses-2/InsideScanner/'\\\n",
        "  'subjectBAP103_Voddball_session2_'\\\n",
        "  '%s' \\\n",
        "  '*.mat' %(runs[run_index]))\n",
        "  if \"eyetrack\" in file_directory[0]:\n",
        "    file_directory[0]=file_directory[1]\n",
        "  file_directory=file_directory[0]\n",
        "  current_run=sio.loadmat(file_directory)\n",
        "  isoddball=current_run['isoddball']\n",
        "  iscorr=current_run['iscorr']\n",
        "  trial_offset=current_run['trial_offset']\n",
        "  nan_indices=np.where(np.isnan(iscorr)==True)\n",
        "  nan_indices=nan_indices[1]\n",
        "  iscorr_corrected=iscorr[~np.isnan(iscorr)]\n",
        "  trial_offset_corrected=trial_offset[~np.isnan(iscorr)]\n",
        "  isoddball_corrected=isoddball[~np.isnan(iscorr)]\n",
        "  print('The shape for the offset_trial_corrected in run %d' %(run_index), 'is:',np.shape(trial_offset_corrected))\n",
        "  offsets_no_repeat_sorted=np.sort(np.unique(trial_offset))\n",
        "  accuracy=np.zeros((np.size(offsets_no_repeat_sorted)))\n",
        "  print(np.shape(accuracy))\n",
        "  if run_index==0:\n",
        "    accuracies=np.zeros((np.size(accuracy),np.size(runs)))\n",
        "  for i in range(len(offsets_no_repeat_sorted)):\n",
        "    corrects=0\n",
        "    for j in range(len(iscorr_corrected)):\n",
        "      if trial_offset_corrected[j]==offsets_no_repeat_sorted[i]:\n",
        "        if iscorr_corrected[j]==1:\n",
        "          corrects=corrects+1\n",
        "    accuracy[i]=corrects/np.count_nonzero(trial_offset_corrected==offsets_no_repeat_sorted[i])\n",
        "  accuracies[run_index,:]=accuracy\n",
        "\n",
        "\n",
        "\n"
      ],
      "metadata": {
        "id": "i0jWOwKsR_N4",
        "colab": {
          "base_uri": "https://localhost:8080/"
        },
        "outputId": "42d5563a-7c79-4c21-a6ba-62d3326a43f6"
      },
      "execution_count": 29,
      "outputs": [
        {
          "output_type": "stream",
          "name": "stdout",
          "text": [
            "The shape for the offset_trial_corrected in run 0 is: (29,)\n",
            "(5,)\n",
            "The shape for the offset_trial_corrected in run 1 is: (30,)\n",
            "(5,)\n",
            "The shape for the offset_trial_corrected in run 2 is: (29,)\n",
            "(5,)\n",
            "The shape for the offset_trial_corrected in run 3 is: (30,)\n",
            "(5,)\n",
            "The shape for the offset_trial_corrected in run 4 is: (30,)\n",
            "(5,)\n"
          ]
        }
      ]
    },
    {
      "cell_type": "code",
      "source": [
        "temp=substring_after(file_directory,\"sub-\")\n",
        "subject_index=substring_before(temp,\"/ses\")\n",
        "print(subject_index)\n",
        "\n",
        "  "
      ],
      "metadata": {
        "colab": {
          "base_uri": "https://localhost:8080/"
        },
        "id": "-iUO_3XRYApS",
        "outputId": "6f8d7855-0018-4972-8266-820a46cea6c1"
      },
      "execution_count": 57,
      "outputs": [
        {
          "output_type": "stream",
          "name": "stdout",
          "text": [
            "BAP103\n"
          ]
        }
      ]
    },
    {
      "cell_type": "code",
      "source": [
        "np.size(accuracies[0])"
      ],
      "metadata": {
        "id": "ZVDh36cuhuTt",
        "colab": {
          "base_uri": "https://localhost:8080/"
        },
        "outputId": "1a54533a-f616-426e-ae7e-b9f9c1fc6829"
      },
      "execution_count": 32,
      "outputs": [
        {
          "output_type": "execute_result",
          "data": {
            "text/plain": [
              "5"
            ]
          },
          "metadata": {},
          "execution_count": 32
        }
      ]
    },
    {
      "cell_type": "code",
      "source": [
        "import matplotlib.pyplot as plt\n",
        "num_rows=accuracies.shape[0]\n",
        "fig ,axes=plt.subplots(nrows=(num_rows//2)+1, ncols=2, figsize=(10,10))\n",
        "\n",
        "for i, ax in enumerate(axes.ravel()):\n",
        "  if i<num_rows:\n",
        "    ax.plot(offsets_no_repeat_sorted,accuracies[i])\n",
        "    ax.plot(offsets_no_repeat_sorted,accuracies[i], 'o', label='data points')\n",
        "    ax.set_title(f\"%s Run {i+1}\" %(subject_index))\n",
        "    ax.set_xlabel(\"Oddbal Level\")\n",
        "    ax.set_ylabel(\"Accuracy\")\n",
        "    ax.grid(True)\n",
        "plt.subplots_adjust(wspace=0.5, hspace=0.5, left=0.1, right=0.9, top=0.9, bottom=0.1)\n",
        "save_directory=('/content/gdrive/Shareddrives/LC-Aging/LC_aging_fMRI')\n",
        "plt.savefig(f\"{save_directory}/juv.png\")"
      ],
      "metadata": {
        "colab": {
          "base_uri": "https://localhost:8080/",
          "height": 654
        },
        "id": "n5s7MamwDaJW",
        "outputId": "2450837c-cd49-448f-bb88-6341e1d5c042"
      },
      "execution_count": 68,
      "outputs": [
        {
          "output_type": "display_data",
          "data": {
            "text/plain": [
              "<Figure size 720x720 with 6 Axes>"
            ],
            "image/png": "[encoded data removed]"
          },
          "metadata": {
            "needs_background": "light"
          }
        }
      ]
    },
    {
      "cell_type": "code",
      "source": [
        "saving_dict={}\n",
        "saving_dict[subject_index+\"_accuracies\"]=accuracies\n",
        "print(saving_dict[subject_index+\"_accuracies\"])"
      ],
      "metadata": {
        "colab": {
          "base_uri": "https://localhost:8080/"
        },
        "id": "Nf2NZ714pcI5",
        "outputId": "113b7bc3-2b93-4c59-f06c-243fd8976a48"
      },
      "execution_count": 62,
      "outputs": [
        {
          "output_type": "stream",
          "name": "stdout",
          "text": [
            "[[1.         0.66666667 1.         0.83333333 1.        ]\n",
            " [0.83333333 0.66666667 0.5        0.33333333 0.5       ]\n",
            " [0.83333333 0.16666667 0.4        0.5        0.66666667]\n",
            " [0.66666667 0.         0.33333333 0.66666667 1.        ]\n",
            " [0.66666667 0.5        0.16666667 0.33333333 0.66666667]]\n"
          ]
        }
      ]
    }
  ]
}