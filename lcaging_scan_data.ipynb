{
  "nbformat": 4,
  "nbformat_minor": 0,
  "metadata": {
    "colab": {
      "provenance": [],
      "authorship_tag": "ABX9TyMlwXJ7k9zv3Cmxoo3ueWVa",
      "include_colab_link": true
    },
    "kernelspec": {
      "name": "python3",
      "display_name": "Python 3"
    },
    "language_info": {
      "name": "python"
    }
  },
  "cells": [
    {
      "cell_type": "markdown",
      "metadata": {
        "id": "view-in-github",
        "colab_type": "text"
      },
      "source": [
        "<a href=\"https://colab.research.google.com/github/aminghafari1/lcaging-fmri/blob/main/lcaging_scan_data.ipynb\" target=\"_parent\"><img src=\"https://colab.research.google.com/assets/colab-badge.svg\" alt=\"Open In Colab\"/></a>"
      ]
    },
    {
      "cell_type": "code",
      "execution_count": 1,
      "metadata": {
        "colab": {
          "base_uri": "https://localhost:8080/"
        },
        "id": "7Ev7fPhGQHET",
        "outputId": "893ebf51-f709-4d34-ce5e-1cad1ecfac0a"
      },
      "outputs": [
        {
          "output_type": "stream",
          "name": "stdout",
          "text": [
            "Mounted at /content/gdrive\n"
          ]
        }
      ],
      "source": [
        "from google.colab import drive\n",
        "drive.mount('/content/gdrive')\n",
        "import numpy as np\n"
      ]
    },
    {
      "cell_type": "code",
      "source": [
        "import scipy.io as sio\n",
        "runs=[\"run1\",\"run2\",\"run3\",\"run4\",\"run5\"]\n",
        "print(runs[0])"
      ],
      "metadata": {
        "colab": {
          "base_uri": "https://localhost:8080/"
        },
        "id": "VmFo9n5BIDqo",
        "outputId": "56b03c24-6d98-4339-ad80-14e19216da51"
      },
      "execution_count": 2,
      "outputs": [
        {
          "output_type": "stream",
          "name": "stdout",
          "text": [
            "run1\n"
          ]
        }
      ]
    },
    {
      "cell_type": "code",
      "source": [
        "import glob\n",
        "def substring_after(s,delim):\n",
        "  return s.partition(delim)[2]\n",
        "def substring_before(s,delim):\n",
        "  return s.partition(delim)[0]"
      ],
      "metadata": {
        "id": "rUPKpcBTpalq"
      },
      "execution_count": 3,
      "outputs": []
    },
    {
      "cell_type": "code",
      "source": [
        "## When you need to change the subject index, sometimes it is associated with changing the session index as well. Check the data each time. \n",
        "## For example from BAP103 to BAP 102, because the visual data were stored in the third session, we needed to change the adress in four parts.\n",
        "## namely in two parts we changed the BAP index from 103 to 102, and two parts from ses 2 to ses 3.\n",
        "for run_index in range(len(runs)):\n",
        "  file_directory=glob.glob('/content/gdrive/Shareddrives/LC-Aging/'\\\n",
        "  'Older Adult - MRI Study/Data Collection/BAP/BAP data/'\\\n",
        "  'sub-BAP102/ses-3/InsideScanner/'\\\n",
        "  'subjectBAP102_Voddball_session3_'\\\n",
        "  '%s' \\\n",
        "  '*.mat' %(runs[run_index]))\n",
        "  if \"eyetrack\" in file_directory[0]:\n",
        "    file_directory[0]=file_directory[1]\n",
        "  file_directory=file_directory[0]\n",
        "  current_run=sio.loadmat(file_directory)\n",
        "  isoddball=current_run['isoddball']\n",
        "  iscorr=current_run['iscorr']\n",
        "  trial_offset=current_run['trial_offset']\n",
        "  reaction_time=current_run['Resp1EndTimeP_SBP']-current_run['Resp1StartTimeP']\n",
        "  nan_indices=np.where(np.isnan(iscorr)==True)\n",
        "  nan_indices=nan_indices[1]\n",
        "  reaction_time=reaction_time[~np.isnan(reaction_time)]\n",
        "  iscorr_corrected=iscorr[~np.isnan(iscorr)]\n",
        "  trial_offset_corrected=trial_offset[~np.isnan(iscorr)]\n",
        "  isoddball_corrected=isoddball[~np.isnan(iscorr)]\n",
        "  print('The shape for the offset_trial_corrected in run %d' %(run_index), 'is:',np.shape(trial_offset_corrected), 'The shape for the reaction time is:' ,np.shape(reaction_time))\n",
        "  offsets_no_repeat_sorted=np.sort(np.unique(trial_offset))\n",
        "  accuracy=np.zeros((np.size(offsets_no_repeat_sorted)))\n",
        "  reaction=np.zeros((np.size(offsets_no_repeat_sorted)))\n",
        "  print(np.shape(accuracy))\n",
        "  if run_index==0:\n",
        "    accuracies=np.zeros((np.size(accuracy),np.size(runs)))\n",
        "    reactions=np.zeros((np.size(reaction),np.size(runs)))\n",
        "  for i in range(len(offsets_no_repeat_sorted)):\n",
        "    corrects=0\n",
        "    total_time_to_react=0\n",
        "    for j in range(len(iscorr_corrected)):\n",
        "      if trial_offset_corrected[j]==offsets_no_repeat_sorted[i]:\n",
        "        if iscorr_corrected[j]==1:\n",
        "          corrects=corrects+1\n",
        "        total_time_to_react=total_time_to_react+reaction_time[j]\n",
        "    accuracy[i]=corrects/np.count_nonzero(trial_offset_corrected==offsets_no_repeat_sorted[i])\n",
        "    reaction[i]=total_time_to_react/np.count_nonzero(trial_offset_corrected==offsets_no_repeat_sorted[i])\n",
        "  accuracies[run_index,:]=accuracy\n",
        "  reactions[run_index, :]=reaction\n",
        "\n",
        "## for now the reaction time calculation method is as follows: sum of the reaction times as each stimulus level is devided by \n",
        "## the number of times each oddball level is shown, and we haven't taken into consideration the correctness of the answer given by the subjects.\n",
        "\n"
      ],
      "metadata": {
        "id": "i0jWOwKsR_N4",
        "colab": {
          "base_uri": "https://localhost:8080/"
        },
        "outputId": "3c1f9b24-f6fa-4e09-f22e-9c050ae93a8c"
      },
      "execution_count": 4,
      "outputs": [
        {
          "output_type": "stream",
          "name": "stdout",
          "text": [
            "The shape for the offset_trial_corrected in run 0 is: (30,) The shape for the reaction time is: (30,)\n",
            "(5,)\n",
            "The shape for the offset_trial_corrected in run 1 is: (30,) The shape for the reaction time is: (30,)\n",
            "(5,)\n",
            "The shape for the offset_trial_corrected in run 2 is: (30,) The shape for the reaction time is: (30,)\n",
            "(5,)\n",
            "The shape for the offset_trial_corrected in run 3 is: (30,) The shape for the reaction time is: (30,)\n",
            "(5,)\n",
            "The shape for the offset_trial_corrected in run 4 is: (30,) The shape for the reaction time is: (30,)\n",
            "(5,)\n"
          ]
        }
      ]
    },
    {
      "cell_type": "code",
      "source": [
        "import seaborn as sns\n",
        "\n",
        "sns.kdeplot(reaction_time)\n",
        "plt.xlabel('Reaction Time')\n",
        "plt.ylabel('Density')\n",
        "plt.grid(True)\n",
        "plt.show()\n"
      ],
      "metadata": {
        "colab": {
          "base_uri": "https://localhost:8080/",
          "height": 279
        },
        "id": "lsp70BiZ98kv",
        "outputId": "40201435-40f4-4cbf-be1c-20651d4ee0eb"
      },
      "execution_count": null,
      "outputs": [
        {
          "output_type": "display_data",
          "data": {
            "text/plain": [
              "<Figure size 432x288 with 1 Axes>"
            ],
            "image/png": "[encoded data removed]"
          },
          "metadata": {
            "needs_background": "light"
          }
        }
      ]
    },
    {
      "cell_type": "code",
      "source": [
        "from scipy.stats import zscore\n",
        "log_reaction_time=np.log(reaction_time)\n"
      ],
      "metadata": {
        "id": "61bLRAxAIXkG"
      },
      "execution_count": null,
      "outputs": []
    },
    {
      "cell_type": "code",
      "source": [
        "log_reaction_time"
      ],
      "metadata": {
        "colab": {
          "base_uri": "https://localhost:8080/"
        },
        "id": "5vHgt4laKIsU",
        "outputId": "3f1dd55c-7ff0-4c99-866f-d8f61824a10f"
      },
      "execution_count": null,
      "outputs": [
        {
          "output_type": "execute_result",
          "data": {
            "text/plain": [
              "array([-0.11650932,  0.60993393,  0.27784368, -0.56233245, -0.40067475,\n",
              "       -0.61615558, -0.61658122,  0.36475151, -0.61633189, -0.44623742,\n",
              "        0.11324038, -0.71344112, -0.96767824, -0.56226665, -0.77683666,\n",
              "        0.7082605 ,  0.60452758, -0.6933366 , -0.12777485, -0.19831741,\n",
              "        0.55405315, -0.46221817, -0.61640783, -0.75494046,  0.7468766 ,\n",
              "        0.06767594,  0.30770806, -0.47786743,  0.54205978, -0.23576816])"
            ]
          },
          "metadata": {},
          "execution_count": 23
        }
      ]
    },
    {
      "cell_type": "code",
      "source": [
        "reactions"
      ],
      "metadata": {
        "colab": {
          "base_uri": "https://localhost:8080/"
        },
        "id": "jBwgbskN6iN_",
        "outputId": "67e1d319-0c63-48fb-a0f8-daa272a69571"
      },
      "execution_count": null,
      "outputs": [
        {
          "output_type": "execute_result",
          "data": {
            "text/plain": [
              "array([[0.99011445, 1.28842267, 1.42011777, 1.18844028, 0.8366518 ],\n",
              "       [1.00678473, 1.37514348, 1.81857543, 1.35355152, 0.93678482],\n",
              "       [0.8317642 , 0.77512342, 1.38353642, 0.9234722 , 0.49166555],\n",
              "       [0.74834248, 1.22849383, 1.44358057, 1.08847608, 0.93842323],\n",
              "       [1.10009777, 1.15181423, 1.0451003 , 1.00828252, 0.54823927]])"
            ]
          },
          "metadata": {},
          "execution_count": 5
        }
      ]
    },
    {
      "cell_type": "code",
      "source": [
        "temp=substring_after(file_directory,\"sub-\")\n",
        "subject_index=substring_before(temp,\"/ses\")\n",
        "print(subject_index)\n",
        "\n",
        "  "
      ],
      "metadata": {
        "colab": {
          "base_uri": "https://localhost:8080/"
        },
        "id": "-iUO_3XRYApS",
        "outputId": "2559bdc8-c66c-417a-f431-b2d6339f6b9e"
      },
      "execution_count": null,
      "outputs": [
        {
          "output_type": "stream",
          "name": "stdout",
          "text": [
            "BAP102\n"
          ]
        }
      ]
    },
    {
      "cell_type": "code",
      "source": [
        "import matplotlib.pyplot as plt\n",
        "num_rows=accuracies.shape[0]\n",
        "fig ,axes=plt.subplots(nrows=(num_rows//2)+1, ncols=2, figsize=(10,10))\n",
        "\n",
        "for i, ax in enumerate(axes.ravel()):\n",
        "  if i<num_rows:\n",
        "    ax.plot(offsets_no_repeat_sorted,accuracies[i])\n",
        "    ax.plot(offsets_no_repeat_sorted,accuracies[i], 'o', label='data points')\n",
        "    ax.set_title(f\"%s Run {i+1}\" %(subject_index))\n",
        "    ax.set_xlabel(\"Oddbal Level\")\n",
        "    ax.set_ylabel(\"Accuracy\")\n",
        "    ax.grid(True)\n",
        "plt.subplots_adjust(wspace=0.5, hspace=0.5, left=0.1, right=0.9, top=0.9, bottom=0.1)\n",
        "import os.path\n",
        "from os import path\n",
        "if path.exists('/content/gdrive/Shareddrives/LC-Aging/LC_aging_fMRI/%s' %(subject_index)) == False:\n",
        "  os.mkdir('/content/gdrive/Shareddrives/LC-Aging/LC_aging_fMRI/%s' %(subject_index))\n",
        "save_directory=('/content/gdrive/Shareddrives/LC-Aging/LC_aging_fMRI/%s' %(subject_index))\n",
        "plt.savefig(f\"{save_directory}/accuracy.png\")"
      ],
      "metadata": {
        "colab": {
          "base_uri": "https://localhost:8080/",
          "height": 654
        },
        "id": "n5s7MamwDaJW",
        "outputId": "46d37489-0f0c-4b92-d4a1-c18c430fdd4e"
      },
      "execution_count": null,
      "outputs": [
        {
          "output_type": "display_data",
          "data": {
            "text/plain": [
              "<Figure size 720x720 with 6 Axes>"
            ],
            "image/png": "[encoded data removed]"
          },
          "metadata": {
            "needs_background": "light"
          }
        }
      ]
    },
    {
      "cell_type": "code",
      "source": [],
      "metadata": {
        "colab": {
          "base_uri": "https://localhost:8080/",
          "height": 34
        },
        "id": "2hNnR65tQ-rC",
        "outputId": "30c9f558-ccc2-46f1-cd78-44e5651730ac"
      },
      "execution_count": null,
      "outputs": [
        {
          "output_type": "display_data",
          "data": {
            "text/plain": [
              "<Figure size 432x288 with 0 Axes>"
            ]
          },
          "metadata": {}
        }
      ]
    },
    {
      "cell_type": "code",
      "source": [
        "import pandas as pd\n",
        "pd.DataFrame(accuracies).to_csv(\"%s/accuracy_results.csv\" %(save_directory))"
      ],
      "metadata": {
        "id": "eH3RCkU3Bz_0"
      },
      "execution_count": null,
      "outputs": []
    }
  ]
}