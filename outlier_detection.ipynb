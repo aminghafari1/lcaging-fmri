{
  "nbformat": 4,
  "nbformat_minor": 0,
  "metadata": {
    "colab": {
      "provenance": [],
      "authorship_tag": "ABX9TyMP8H1vpjMe1nxe/eulcXvJ",
      "include_colab_link": true
    },
    "kernelspec": {
      "name": "python3",
      "display_name": "Python 3"
    },
    "language_info": {
      "name": "python"
    }
  },
  "cells": [
    {
      "cell_type": "markdown",
      "metadata": {
        "id": "view-in-github",
        "colab_type": "text"
      },
      "source": [
        "<a href=\"https://colab.research.google.com/github/aminghafari1/lcaging-fmri/blob/main/outlier_detection.ipynb\" target=\"_parent\"><img src=\"https://colab.research.google.com/assets/colab-badge.svg\" alt=\"Open In Colab\"/></a>"
      ]
    },
    {
      "cell_type": "code",
      "execution_count": null,
      "metadata": {
        "id": "SgNeNxKFuVC4"
      },
      "outputs": [],
      "source": [
        "## For now, the idea is to make two 3d matrices, one for auditory and one for visual.\n",
        "## In each layer of the 3d mat we will put one subject with its runs.\n",
        "## This is to know their place later that they are detected as outliers, so we know where they come from"
      ]
    },
    {
      "cell_type": "code",
      "source": [
        "from google.colab import drive\n",
        "drive.mount('/content/gdrive')\n",
        "import numpy as np\n",
        "import glob\n",
        "import os\n",
        "def substring_after(s,delim):\n",
        "  return s.partition(delim)[2]\n",
        "def substring_before(s,delim):\n",
        "  return s.partition(delim)[0]\n",
        "import scipy.io as sio\n",
        "import os\n",
        "from scipy.stats import zscore\n",
        "from os import path\n",
        "import pandas as pd\n",
        "import matplotlib.pyplot as plt\n",
        "import csv"
      ],
      "metadata": {
        "colab": {
          "base_uri": "https://localhost:8080/"
        },
        "id": "RnuKILpz7eNp",
        "outputId": "672fd198-74b3-479d-bf8b-6eafda2d27cb"
      },
      "execution_count": null,
      "outputs": [
        {
          "output_type": "stream",
          "name": "stdout",
          "text": [
            "Mounted at /content/gdrive\n"
          ]
        }
      ]
    },
    {
      "cell_type": "code",
      "source": [
        "\n",
        "## read the csv files for the auditory cortex\n",
        "base_dir=glob.glob('/content/gdrive/Shareddrives/LC-Aging/LC_aging_fMRI/')\n",
        "base_dir=base_dir[0]\n",
        "prefix = 'BAP'\n",
        "sub_folders = [f for f in os.listdir(base_dir) if os.path.isdir(os.path.join(base_dir, f)) and f.startswith(prefix)]\n",
        "sub_folders = [base_dir + i for i in sub_folders]\n",
        "auditory_files=[]\n",
        "visual_files=[]\n",
        "accuracy_results=\"updated_auditory_accuracy.csv\"\n",
        "for dir in sub_folders:\n",
        "    aud_dir = os.path.join(dir, 'auditory')\n",
        "    vis_dir = os.path.join(dir, 'visual')\n",
        "    if os.path.exists(aud_dir):\n",
        "       accuracy_csv=os.path.join(aud_dir, accuracy_results) \n",
        "       if os.path.exists(accuracy_csv) == True:\n",
        "         auditory_files.append(accuracy_csv)\n",
        "number_of_run=5 ##each subject has 5 runs\n",
        "number_of_stimulus_levels=5 ##each run has 5 different stimulus levels\n",
        "accuracy_matrix = np.zeros((len(auditory_files), number_of_run, number_of_stimulus_levels))\n",
        "layer_subjects={}\n",
        "for i in range(len(auditory_files)):\n",
        "  temp=substring_before(auditory_files[i],\"/audit\")\n",
        "  subject_index=substring_after(temp,\"MRI/\")\n",
        "  layer_subjects[i]=subject_index\n",
        "  accuracy_csv=auditory_files[i]\n",
        "  with open(accuracy_csv, 'r') as file:\n",
        "   reader=csv.reader(file)\n",
        "   matrix = np.array(list(reader))\n",
        "   matrix[matrix == ''] = '0'\n",
        "   matrix_float = matrix.astype('float')\n",
        "   matrix_float = matrix_float[1:, 1:]\n",
        "   accuracy_matrix[i,:,:]=matrix_float\n",
        "\n",
        "\n"
      ],
      "metadata": {
        "id": "SpDKHSWc7Sbj"
      },
      "execution_count": null,
      "outputs": []
    },
    {
      "cell_type": "code",
      "source": [
        "## plotting the results\n",
        "x=[0,4,8,16,32]\n",
        "import time\n",
        "from IPython.display import clear_output\n",
        "for i in range(accuracy_matrix.shape[0]):\n",
        "    # Loop through each row of the layer\n",
        "    for j in range(accuracy_matrix.shape[1]):\n",
        "        # Extract the y values for the current row\n",
        "        figure, ax = plt.subplots(figsize=(10, 8))\n",
        "        y = accuracy_matrix[i, j, :]\n",
        "        line1, = ax.plot(x, y)\n",
        "        # Plot x by y\n",
        "        plt.close()\n",
        "        plt.plot(x, y)\n",
        "        plt.grid(True)\n",
        "        plt.title(f\" {layer_subjects[i]}, Run {j}\")\n",
        "        plt.show()\n",
        "        figure.canvas.draw()\n",
        "        figure.canvas.flush_events()\n",
        "        time.sleep(1.5)\n",
        "        clear_output(wait=True)\n",
        "\n",
        "        "
      ],
      "metadata": {
        "id": "NNeU_DYST258"
      },
      "execution_count": null,
      "outputs": []
    },
    {
      "cell_type": "code",
      "source": [
        "orig_shape=accuracy_matrix.shape\n",
        "data=np.reshape(accuracy_matrix,(orig_shape[0]*orig_shape[1],orig_shape[2]))\n"
      ],
      "metadata": {
        "id": "wKPZ57VAMqwT"
      },
      "execution_count": null,
      "outputs": []
    },
    {
      "cell_type": "code",
      "source": [
        "## Method 1: Mahalanobis Distance\n",
        "## calculate the mean of the data\n",
        "import time\n",
        "from IPython.display import clear_output\n",
        "contrast=[0,4,8,16,32]\n",
        "mean=np.mean(data,axis=0)\n",
        "## calculate the malahobis distance between each row and the mean and save it in a matrix named mahal\n",
        "mahal=np.zeros((len(data),1))\n",
        "for i in range(len(data)):\n",
        "    mahal[i]=np.sqrt((data[i]-mean).T.dot(np.linalg.inv(np.cov(data.T))).dot((data[i]-mean)))\n",
        "## plot the mahalobis distance\n",
        "plt.plot(mahal)\n",
        "plt.grid(True)\n",
        "plt.title(f\" mahalobis distance\")\n",
        "plt.show()\n",
        "time.sleep(2)\n",
        "clear_output(wait=True)\n",
        "## find the outliers based on the mahalobis distance\n",
        "mahal_outliers=[]\n",
        "for i in range(len(mahal)):\n",
        "    if mahal[i]>np.mean(mahal)+2*np.std(mahal):\n",
        "        mahal_outliers.append(i)\n",
        "## plot the outliers\n",
        "for i in mahal_outliers:\n",
        "    print(\"i is %d\" %(i))\n",
        "    figure, ax = plt.subplots(figsize=(10, 8))\n",
        "    y = data[i]\n",
        "    x=contrast\n",
        "    line1, = ax.plot(x, y)\n",
        "        # Plot x by y\n",
        "    plt.close()\n",
        "    plt.plot(x, y)\n",
        "    plt.grid(True)\n",
        "    plt.title(f\" run number {[i]}\")\n",
        "    plt.show()\n",
        "    figure.canvas.draw()\n",
        "    figure.canvas.flush_events()\n",
        "    time.sleep(2)\n",
        "    clear_output(wait=True)"
      ],
      "metadata": {
        "id": "zchYbbXXf8O_"
      },
      "execution_count": null,
      "outputs": []
    },
    {
      "cell_type": "code",
      "source": [
        "## Method 2: Frechet Distance\n",
        "from scipy.spatial.distance import euclidean\n",
        "from scipy.spatial.distance import frechet_distance\n",
        "mean=np.mean(data,axis=0)\n",
        "\n",
        "frechet=np.zeros(len(data))\n"
      ],
      "metadata": {
        "id": "RL3mNHEQt8sA"
      },
      "execution_count": null,
      "outputs": []
    },
    {
      "cell_type": "code",
      "source": [
        "## Method 2: 1-D PCA\n",
        "from sklearn.decomposition import PCA\n",
        "pca = PCA(n_components=1)\n",
        "pca.fit(data)\n",
        "data_pca=pca.transform(data)\n",
        "## plot the pca\n",
        "plt.plot(data_pca)\n",
        "plt.grid(True)\n",
        "plt.title(f\" pca\")\n",
        "plt.show()\n",
        "time.sleep(2)\n",
        "clear_output(wait=True)\n",
        "## find the outliers based on the pca\n",
        "pca_outliers=[] \n",
        "for i in range(len(data_pca)):\n",
        "    if data_pca[i]>np.mean(data_pca)+2*np.std(data_pca):\n",
        "        pca_outliers.append(i)\n",
        "## plot the outliers\n",
        "for i in pca_outliers:\n",
        "    print(\"i is %d\" %(i))\n",
        "    figure, ax = plt.subplots(figsize=(10, 8))\n",
        "    y = data[i]\n",
        "    x=contrast\n",
        "    line1, = ax.plot(x, y)\n",
        "        # Plot x by y\n",
        "    plt.close()\n",
        "    plt.plot(x, y)\n",
        "    plt.grid(True)\n",
        "    plt.title(f\" run number {[i]}\")\n",
        "    plt.show()\n",
        "    figure.canvas.draw()\n",
        "    figure.canvas.flush_events()\n",
        "    time.sleep(2)\n",
        "    clear_output(wait=True)"
      ],
      "metadata": {
        "id": "deCKB9m1uEnS"
      },
      "execution_count": null,
      "outputs": []
    },
    {
      "cell_type": "code",
      "source": [
        "## Give me 2-d PCA of the data\n",
        "from sklearn.decomposition import PCA\n",
        "pca = PCA(n_components=2)\n",
        "pca.fit(data)\n",
        "data_pca=pca.transform(data)\n",
        "## plot the pca\n",
        "plt.scatter(data_pca[:,0],data_pca[:,1])\n",
        "plt.grid(True)\n",
        "plt.title(f\" pca\")\n",
        "plt.show()\n",
        "time.sleep(2)\n",
        "clear_output(wait=True)\n",
        "## find the outliers based on the pca\n",
        "pca_outliers=[]\n",
        "for i in range(len(data_pca)):\n",
        "    if data_pca[i,0]>np.mean(data_pca[:,0])+2*np.std(data_pca[:,0]):\n",
        "        pca_outliers.append(i)\n",
        "## plot the outliers\n",
        "for i in pca_outliers:\n",
        "    print(\"i is %d\" %(i))\n",
        "    figure, ax = plt.subplots(figsize=(10, 8))\n",
        "    y = data[i]\n",
        "    x=contrast\n",
        "    line1, = ax.plot(x, y)\n",
        "        # Plot x by y\n",
        "    plt.close()\n",
        "    plt.plot(x, y)\n",
        "    plt.grid(True)\n",
        "    plt.title(f\" run number {[i]}\")\n",
        "    plt.show()\n",
        "    figure.canvas.draw()\n",
        "    figure.canvas.flush_events()\n",
        "    time.sleep(2)\n",
        "    clear_output(wait=True)"
      ],
      "metadata": {
        "id": "cAmC_fwYwUrb"
      },
      "execution_count": null,
      "outputs": []
    }
  ]
}